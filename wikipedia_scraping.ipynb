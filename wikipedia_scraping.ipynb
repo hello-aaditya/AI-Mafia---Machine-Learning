{
 "cells": [
  {
   "cell_type": "code",
   "execution_count": 17,
   "id": "6d5bf086-f2d0-465f-b04f-b7be3f17f668",
   "metadata": {},
   "outputs": [
    {
     "name": "stdin",
     "output_type": "stream",
     "text": [
      "Enter the name to search on Wikipedia:  mukesh ambani\n"
     ]
    },
    {
     "name": "stdout",
     "output_type": "stream",
     "text": [
      "Born: Mukesh Dhirubhai Ambani(1957-04-19)19 April 1957(age 67)Aden,Colony of Aden(present-dayYemen)[1][2]\n",
      "Nationality: Indian\n",
      "Alma mater: St. Xavier's College, MumbaiInstitute of Chemical Technology(B.E.)\n",
      "Occupation(s): Chairman and MD,Reliance Industries\n",
      "Spouse: Nita Ambani​(m.1985)​[3]\n",
      "Children: 3\n",
      "Parents: Dhirubhai Ambani(father)Kokilaben Ambani (mother)\n",
      "Relatives: Anil Ambani(brother)Tina Ambani(sister-in-law)\n"
     ]
    }
   ],
   "source": [
    "from bs4 import BeautifulSoup\n",
    "import requests\n",
    "\n",
    "# Function to search and fetch Wikipedia page content\n",
    "def fetch_wikipedia_info(search_query):\n",
    "    # Construct the URL based on the search query\n",
    "    url = f'https://en.wikipedia.org/wiki/{search_query.replace(\" \", \"_\")}'\n",
    "    \n",
    "    try:\n",
    "        # Call the API server using requests module\n",
    "        result = requests.get(url)\n",
    "        result.raise_for_status()  # Raise an exception for HTTP errors\n",
    "        \n",
    "        # Parse the content of the request with BeautifulSoup\n",
    "        soup = BeautifulSoup(result.content, 'html.parser')\n",
    "        \n",
    "        # Find the first infobox table (usually the one with the biographical data)\n",
    "        table = soup.find('table', {'class': 'infobox'})\n",
    "        \n",
    "        # If infobox is found, extract and print the data\n",
    "        if table:\n",
    "            headers = []\n",
    "            data = []\n",
    "            \n",
    "            # Iterate through the rows of the table\n",
    "            for row in table.find_all('tr'):\n",
    "                # Find all header cells and data cells in the row\n",
    "                header = row.find('th')\n",
    "                value = row.find('td')\n",
    "                \n",
    "                # If both header and value are present, add them to the lists\n",
    "                if header and value:\n",
    "                    headers.append(header.get_text(strip=True))\n",
    "                    data.append(value.get_text(strip=True))\n",
    "            \n",
    "            # Print the extracted data\n",
    "            for header, value in zip(headers, data):\n",
    "                print(f\"{header}: {value}\")\n",
    "        else:\n",
    "            print(\"Data not found.\")\n",
    "    \n",
    "    except requests.exceptions.HTTPError as err:\n",
    "        print(f\"HTTP error occurred: {err}\")\n",
    "    except requests.exceptions.RequestException as err:\n",
    "        print(f\"Request error occurred: {err}\")\n",
    "    except Exception as err:\n",
    "        print(f\"An error occurred: {err}\")\n",
    "\n",
    "# Example usage:\n",
    "search_query = input(\"Enter the name to search on Wikipedia: \")\n",
    "fetch_wikipedia_info(search_query)\n"
   ]
  },
  {
   "cell_type": "code",
   "execution_count": null,
   "id": "6ce8120f-bf91-48d8-961a-0c3d49bc1b39",
   "metadata": {},
   "outputs": [],
   "source": []
  },
  {
   "cell_type": "code",
   "execution_count": null,
   "id": "f7356080-1acc-425c-ac49-a46b3d676d8b",
   "metadata": {},
   "outputs": [],
   "source": []
  }
 ],
 "metadata": {
  "kernelspec": {
   "display_name": "Python 3 (ipykernel)",
   "language": "python",
   "name": "python3"
  },
  "language_info": {
   "codemirror_mode": {
    "name": "ipython",
    "version": 3
   },
   "file_extension": ".py",
   "mimetype": "text/x-python",
   "name": "python",
   "nbconvert_exporter": "python",
   "pygments_lexer": "ipython3",
   "version": "3.11.7"
  }
 },
 "nbformat": 4,
 "nbformat_minor": 5
}
