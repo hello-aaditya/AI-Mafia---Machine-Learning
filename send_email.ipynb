{
 "cells": [
  {
   "cell_type": "code",
   "execution_count": 28,
   "id": "1f2f570e-e5a8-4ff7-a1bd-43fe657419b2",
   "metadata": {},
   "outputs": [
    {
     "name": "stdin",
     "output_type": "stream",
     "text": [
      " ········\n"
     ]
    },
    {
     "name": "stdout",
     "output_type": "stream",
     "text": [
      "Email sent Successfully!\n"
     ]
    }
   ],
   "source": [
    "import smtplib\n",
    "import getpass\n",
    "from email.mime.text import MIMEText\n",
    "\n",
    "\n",
    "def send_email():\n",
    "    sender_address = 'aadityakumar1149@gmail.com'\n",
    "    password = getpass.getpass()\n",
    "    subject = 'This project will automatically send the mail using some command of PYTHON'\n",
    "    msg = '''\n",
    "            Hello Everyone,\n",
    "        \n",
    "            My Name is Aaditya. I am working on a project that involves writing Python commands to automate email sending.This project aims to simplify and streamline the process of sending emails by using Python scripts.\n",
    "            \n",
    "            By utilizing Python libraries such as smtplib and email, we can create a flexible and powerful solution to handle various email-related tasks. \n",
    "            This project is a step towards enhancing productivity and efficiency in handling email communications.\n",
    "            \n",
    "            I look forward to sharing more updates and possibly collaborating with those interested in automation and Python programming.\n",
    "    '''\n",
    "\n",
    "    #server initialisation\n",
    "    server = smtplib.SMTP('smtp.gmail.com', 587)\n",
    "    server.starttls()\n",
    "    server.login(sender_address, password)\n",
    "    recipients = ['aadityakumar.prof@gmail.com', 'aaditya.k1149@gmail.com']\n",
    "\n",
    "    #draft my message body\n",
    "    msg = MIMEText(msg)\n",
    "    msg['subject'] = subject\n",
    "    msg['From'] = sender_address\n",
    "    msg['To'] = \", \".join(recipients)\n",
    "    \n",
    "\n",
    "    server.sendmail(sender_address, recipients, msg.as_string())\n",
    "    print(\"Email sent Successfully!\")\n",
    "\n",
    "#function send_mail will call here\n",
    "send_email()\n"
   ]
  },
  {
   "cell_type": "code",
   "execution_count": null,
   "id": "751a6d00-235c-4c0e-bebb-43d6609dbe61",
   "metadata": {},
   "outputs": [],
   "source": []
  },
  {
   "cell_type": "code",
   "execution_count": null,
   "id": "412671a4-aa2b-41a4-9fa4-e34050bfda73",
   "metadata": {},
   "outputs": [],
   "source": []
  }
 ],
 "metadata": {
  "kernelspec": {
   "display_name": "Python 3 (ipykernel)",
   "language": "python",
   "name": "python3"
  },
  "language_info": {
   "codemirror_mode": {
    "name": "ipython",
    "version": 3
   },
   "file_extension": ".py",
   "mimetype": "text/x-python",
   "name": "python",
   "nbconvert_exporter": "python",
   "pygments_lexer": "ipython3",
   "version": "3.11.7"
  }
 },
 "nbformat": 4,
 "nbformat_minor": 5
}
