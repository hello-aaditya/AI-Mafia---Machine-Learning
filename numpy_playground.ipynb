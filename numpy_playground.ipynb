{
 "cells": [
  {
   "cell_type": "markdown",
   "id": "b3186e43-57f2-459f-9f95-497aabaedbac",
   "metadata": {},
   "source": [
    "There are 5 general mechanisms for creating arrays:\n",
    "\n",
    "    Conversion from other Python structures (e.g., lists, tuples)\n",
    "    Intrinsic numpy array array creation objects (e.g., arange, ones, zeros, etc.)\n",
    "    Reading arrays from disk, either from standard or custom formats\n",
    "    Creating arrays from raw bytes through the use of strings or buffers\n",
    "    Use of special library functions (e.g., random)\n"
   ]
  },
  {
   "cell_type": "code",
   "execution_count": 2,
   "id": "ed818252-5daf-4783-9616-cc78776d9e71",
   "metadata": {},
   "outputs": [],
   "source": [
    "import numpy as np"
   ]
  },
  {
   "cell_type": "code",
   "execution_count": 3,
   "id": "ff806787-ef4b-4f94-b90e-2003ecf75e38",
   "metadata": {},
   "outputs": [],
   "source": [
    "# Create a NumPy array of integers with default data type\n",
    "\n",
    "myarr = np.array([3,6,37,7])"
   ]
  },
  {
   "cell_type": "code",
   "execution_count": 4,
   "id": "edc4d508-eb76-47c9-ad8f-b5896cf9ca01",
   "metadata": {},
   "outputs": [
    {
     "data": {
      "text/plain": [
       "array([ 3,  6, 37,  7])"
      ]
     },
     "execution_count": 4,
     "metadata": {},
     "output_type": "execute_result"
    }
   ],
   "source": [
    "myarr"
   ]
  },
  {
   "cell_type": "code",
   "execution_count": 5,
   "id": "1bdefe45-9ef2-472b-a514-13c8170021fe",
   "metadata": {},
   "outputs": [
    {
     "data": {
      "text/plain": [
       "array([ 3,  6, 37,  7], dtype=int8)"
      ]
     },
     "execution_count": 5,
     "metadata": {},
     "output_type": "execute_result"
    }
   ],
   "source": [
    "# Create a NumPy array of integers with specified data type int8\n",
    "\n",
    "myarr = np.array([3,6,37,7], np.int8)\n",
    "myarr"
   ]
  },
  {
   "cell_type": "code",
   "execution_count": 6,
   "id": "781dbd20-e9d5-4aaa-903f-cf1e4a21853a",
   "metadata": {},
   "outputs": [
    {
     "data": {
      "text/plain": [
       "6"
      ]
     },
     "execution_count": 6,
     "metadata": {},
     "output_type": "execute_result"
    }
   ],
   "source": [
    "# Access the element at the second row and third column of the array\n",
    "\n",
    "arr1 = np.array([[1,2,3],\n",
    "                 [4,5,6]])\n",
    "\n",
    "arr1[1,2]"
   ]
  },
  {
   "cell_type": "code",
   "execution_count": 7,
   "id": "f3b518de-d262-47e1-85d9-bb71d3488798",
   "metadata": {},
   "outputs": [
    {
     "data": {
      "text/plain": [
       "(2, 3)"
      ]
     },
     "execution_count": 7,
     "metadata": {},
     "output_type": "execute_result"
    }
   ],
   "source": [
    "# Print the shape of the array\n",
    "\n",
    "arr1.shape"
   ]
  },
  {
   "cell_type": "code",
   "execution_count": 8,
   "id": "7f906720-d630-49d6-b15c-209d3fe8eb5e",
   "metadata": {},
   "outputs": [
    {
     "data": {
      "text/plain": [
       "dtype('int32')"
      ]
     },
     "execution_count": 8,
     "metadata": {},
     "output_type": "execute_result"
    }
   ],
   "source": [
    "arr1.dtype"
   ]
  },
  {
   "cell_type": "code",
   "execution_count": 9,
   "id": "2206423f-2d40-4119-8c2c-2cd057a74ebd",
   "metadata": {},
   "outputs": [],
   "source": [
    "# Update a specific element in the array\n",
    "\n",
    "arr1[1,1] = 55"
   ]
  },
  {
   "cell_type": "code",
   "execution_count": 10,
   "id": "29d9fbd3-b8cc-4913-b382-286ce728a93b",
   "metadata": {},
   "outputs": [
    {
     "data": {
      "text/plain": [
       "array([[ 1,  2,  3],\n",
       "       [ 4, 55,  6]])"
      ]
     },
     "execution_count": 10,
     "metadata": {},
     "output_type": "execute_result"
    }
   ],
   "source": [
    "arr1"
   ]
  },
  {
   "cell_type": "markdown",
   "id": "a4737edd-0ab4-4d33-b1c7-371414747649",
   "metadata": {},
   "source": [
    "# **Conversion from other Python structures (e.g., lists, tuples)**\n"
   ]
  },
  {
   "cell_type": "code",
   "execution_count": 12,
   "id": "dfed0bbf-4c1e-43e0-b7f2-c86c75789ffc",
   "metadata": {},
   "outputs": [
    {
     "data": {
      "text/plain": [
       "array([[ 1,  2,  3],\n",
       "       [ 4,  5,  6],\n",
       "       [ 7,  8,  9],\n",
       "       [10, 11, 12]])"
      ]
     },
     "execution_count": 12,
     "metadata": {},
     "output_type": "execute_result"
    }
   ],
   "source": [
    "arr2 = np.array([[1,2,3], [4,5,6], [7,8,9],[10,11,12]])\n",
    "arr2"
   ]
  },
  {
   "cell_type": "code",
   "execution_count": 13,
   "id": "25af29a1-e082-4b7d-90a9-2d50498e1ec9",
   "metadata": {},
   "outputs": [
    {
     "data": {
      "text/plain": [
       "12"
      ]
     },
     "execution_count": 13,
     "metadata": {},
     "output_type": "execute_result"
    }
   ],
   "source": [
    "arr2.size"
   ]
  },
  {
   "cell_type": "code",
   "execution_count": 14,
   "id": "95a24093-c2ae-4192-9daf-4afaf08c62ed",
   "metadata": {},
   "outputs": [
    {
     "data": {
      "text/plain": [
       "dtype('int32')"
      ]
     },
     "execution_count": 14,
     "metadata": {},
     "output_type": "execute_result"
    }
   ],
   "source": [
    "arr2.dtype"
   ]
  },
  {
   "cell_type": "code",
   "execution_count": 15,
   "id": "8df058e3-36d2-4d17-a9dd-fb4a03c2ca77",
   "metadata": {},
   "outputs": [
    {
     "data": {
      "text/plain": [
       "(4, 3)"
      ]
     },
     "execution_count": 15,
     "metadata": {},
     "output_type": "execute_result"
    }
   ],
   "source": [
    "arr2.shape"
   ]
  },
  {
   "cell_type": "code",
   "execution_count": 16,
   "id": "8353ef38-84f4-42ec-b4f5-b32dd4810015",
   "metadata": {},
   "outputs": [
    {
     "data": {
      "text/plain": [
       "array({34, 22, 39}, dtype=object)"
      ]
     },
     "execution_count": 16,
     "metadata": {},
     "output_type": "execute_result"
    }
   ],
   "source": [
    "# Create a NumPy array from a set\n",
    "\n",
    "np.array({34, 22, 39})"
   ]
  },
  {
   "cell_type": "markdown",
   "id": "59aa9e85-945f-46ca-9b36-5a13784af74b",
   "metadata": {},
   "source": [
    "# **Intrinsic numpy array array creation objects (e.g., arange, ones, zeros, etc.)**"
   ]
  },
  {
   "cell_type": "code",
   "execution_count": 18,
   "id": "78086ed8-f2ea-47d1-9bcf-00b88b433349",
   "metadata": {},
   "outputs": [],
   "source": [
    "# Create a 2x5 NumPy array initialized with zeros\n",
    "\n",
    "zeroarr = np.zeros((2, 5))"
   ]
  },
  {
   "cell_type": "code",
   "execution_count": 19,
   "id": "f8bff728-71a2-4ca3-b304-5d3e136e35c0",
   "metadata": {},
   "outputs": [
    {
     "data": {
      "text/plain": [
       "array([[0., 0., 0., 0., 0.],\n",
       "       [0., 0., 0., 0., 0.]])"
      ]
     },
     "execution_count": 19,
     "metadata": {},
     "output_type": "execute_result"
    }
   ],
   "source": [
    "zeroarr"
   ]
  },
  {
   "cell_type": "code",
   "execution_count": 20,
   "id": "0db98590-8fd1-47d3-baed-e1da04bc5b84",
   "metadata": {},
   "outputs": [],
   "source": [
    "# Create a NumPy array with values ranging from 0 to 14\n",
    "\n",
    "rng = np.arange(15)"
   ]
  },
  {
   "cell_type": "code",
   "execution_count": 21,
   "id": "01eadc38-7070-471e-9087-f316912460a8",
   "metadata": {},
   "outputs": [
    {
     "data": {
      "text/plain": [
       "array([ 0,  1,  2,  3,  4,  5,  6,  7,  8,  9, 10, 11, 12, 13, 14])"
      ]
     },
     "execution_count": 21,
     "metadata": {},
     "output_type": "execute_result"
    }
   ],
   "source": [
    "rng"
   ]
  },
  {
   "cell_type": "code",
   "execution_count": 22,
   "id": "de182530-a69d-42dd-abf2-0f105b5a1409",
   "metadata": {},
   "outputs": [
    {
     "data": {
      "text/plain": [
       "array([1., 2., 3., 4.])"
      ]
     },
     "execution_count": 22,
     "metadata": {},
     "output_type": "execute_result"
    }
   ],
   "source": [
    "# Create a NumPy array with evenly spaced values from 1 to 4, with 4 elements\n",
    "\n",
    "lspace = np.linspace(1, 4, 4)\n",
    "lspace"
   ]
  },
  {
   "cell_type": "code",
   "execution_count": 23,
   "id": "b32595b0-5a5a-42d8-9a30-8a73dfae46b6",
   "metadata": {},
   "outputs": [
    {
     "data": {
      "text/plain": [
       "array([1., 2., 3., 4.])"
      ]
     },
     "execution_count": 23,
     "metadata": {},
     "output_type": "execute_result"
    }
   ],
   "source": [
    "lspace"
   ]
  },
  {
   "cell_type": "code",
   "execution_count": 24,
   "id": "431221c7-d993-45a8-a139-da2f09474288",
   "metadata": {},
   "outputs": [
    {
     "data": {
      "text/plain": [
       "array([ 1.  ,  3.25,  5.5 ,  7.75, 10.  ])"
      ]
     },
     "execution_count": 24,
     "metadata": {},
     "output_type": "execute_result"
    }
   ],
   "source": [
    "# Create a NumPy array with evenly spaced values from 1 to 10, with 5 elements\n",
    "\n",
    "lspace = np.linspace(1, 10, 5)\n",
    "lspace"
   ]
  },
  {
   "cell_type": "code",
   "execution_count": 25,
   "id": "08656056-31aa-4778-a6fc-47d7c42943c2",
   "metadata": {},
   "outputs": [
    {
     "data": {
      "text/plain": [
       "array([[ 7.63755155e-159,  7.91237176e-141, -3.17435806e+116,\n",
       "         8.44560328e-072],\n",
       "       [ 4.81892021e-154,  3.67582555e-304,  2.29884140e-287,\n",
       "         6.81399892e-145],\n",
       "       [ 8.70548195e-261,  5.37910252e-299,  2.06285343e+149,\n",
       "         3.28703410e+231]])"
      ]
     },
     "execution_count": 25,
     "metadata": {},
     "output_type": "execute_result"
    }
   ],
   "source": [
    "# Create an uninitialized NumPy array of shape (3, 4)\n",
    "\n",
    "emp = np.empty((3,4))\n",
    "emp"
   ]
  },
  {
   "cell_type": "code",
   "execution_count": 26,
   "id": "b735cb91-ce6c-4740-99e7-e448e85e4a2c",
   "metadata": {},
   "outputs": [
    {
     "data": {
      "text/plain": [
       "array([[1., 0., 0., 0., 0.],\n",
       "       [0., 1., 0., 0., 0.],\n",
       "       [0., 0., 1., 0., 0.],\n",
       "       [0., 0., 0., 1., 0.],\n",
       "       [0., 0., 0., 0., 1.]])"
      ]
     },
     "execution_count": 26,
     "metadata": {},
     "output_type": "execute_result"
    }
   ],
   "source": [
    "# Create a 5x5 identity matrix using NumPy\n",
    "\n",
    "ide = np.identity(5)\n",
    "ide"
   ]
  },
  {
   "cell_type": "code",
   "execution_count": 27,
   "id": "4e8201c2-fb9b-4fb7-8474-1192de7d3f4b",
   "metadata": {},
   "outputs": [
    {
     "data": {
      "text/plain": [
       "array([ 0,  1,  2,  3,  4,  5,  6,  7,  8,  9, 10, 11, 12, 13, 14, 15, 16,\n",
       "       17, 18, 19, 20, 21, 22, 23, 24, 25, 26, 27, 28, 29, 30, 31, 32, 33,\n",
       "       34, 35, 36, 37, 38, 39, 40, 41, 42, 43, 44, 45, 46, 47, 48, 49, 50,\n",
       "       51, 52, 53, 54, 55, 56, 57, 58, 59, 60, 61, 62, 63, 64, 65, 66, 67,\n",
       "       68])"
      ]
     },
     "execution_count": 27,
     "metadata": {},
     "output_type": "execute_result"
    }
   ],
   "source": [
    "# Create a NumPy array with values ranging from 0 to 68\n",
    "\n",
    "arr4 = np.arange(69)\n",
    "arr4"
   ]
  },
  {
   "cell_type": "code",
   "execution_count": 28,
   "id": "57ce3995-0e33-4668-a3e7-b4edad02dd39",
   "metadata": {},
   "outputs": [
    {
     "data": {
      "text/plain": [
       "array([[ 0,  1,  2,  3,  4,  5,  6,  7,  8,  9, 10, 11, 12, 13, 14, 15,\n",
       "        16, 17, 18, 19, 20, 21, 22],\n",
       "       [23, 24, 25, 26, 27, 28, 29, 30, 31, 32, 33, 34, 35, 36, 37, 38,\n",
       "        39, 40, 41, 42, 43, 44, 45],\n",
       "       [46, 47, 48, 49, 50, 51, 52, 53, 54, 55, 56, 57, 58, 59, 60, 61,\n",
       "        62, 63, 64, 65, 66, 67, 68]])"
      ]
     },
     "execution_count": 28,
     "metadata": {},
     "output_type": "execute_result"
    }
   ],
   "source": [
    "# Reshape the array into a 3x23 array\n",
    "\n",
    "arr4.reshape(3,23)"
   ]
  },
  {
   "cell_type": "code",
   "execution_count": 29,
   "id": "3592e389-e316-44b8-8b23-9ed2be156a1e",
   "metadata": {},
   "outputs": [
    {
     "data": {
      "text/plain": [
       "array([ 0,  1,  2,  3,  4,  5,  6,  7,  8,  9, 10, 11, 12, 13, 14, 15, 16,\n",
       "       17, 18, 19, 20, 21, 22, 23, 24, 25, 26, 27, 28, 29, 30, 31, 32, 33,\n",
       "       34, 35, 36, 37, 38, 39, 40, 41, 42, 43, 44, 45, 46, 47, 48, 49, 50,\n",
       "       51, 52, 53, 54, 55, 56, 57, 58, 59, 60, 61, 62, 63, 64, 65, 66, 67,\n",
       "       68])"
      ]
     },
     "execution_count": 29,
     "metadata": {},
     "output_type": "execute_result"
    }
   ],
   "source": [
    "# Flatten the array into a 1-dimensional array\n",
    "\n",
    "arr4 = arr4.ravel()\n",
    "arr4"
   ]
  },
  {
   "cell_type": "code",
   "execution_count": 30,
   "id": "be6b9287-4bee-430d-988a-15996ca1967c",
   "metadata": {},
   "outputs": [],
   "source": [
    "x = [[1,2,3], [4,5,6], [7,8,9]]"
   ]
  },
  {
   "cell_type": "code",
   "execution_count": 31,
   "id": "f66470d9-5016-4ad0-8473-cf4ea130e5af",
   "metadata": {},
   "outputs": [],
   "source": [
    "ar = np.array(x)"
   ]
  },
  {
   "cell_type": "code",
   "execution_count": 32,
   "id": "d641cc12-96ee-4e87-ad51-0222c73d3727",
   "metadata": {},
   "outputs": [
    {
     "data": {
      "text/plain": [
       "array([[1, 2, 3],\n",
       "       [4, 5, 6],\n",
       "       [7, 8, 9]])"
      ]
     },
     "execution_count": 32,
     "metadata": {},
     "output_type": "execute_result"
    }
   ],
   "source": [
    "ar"
   ]
  },
  {
   "cell_type": "code",
   "execution_count": 33,
   "id": "472ab262-c26e-4457-9fd5-d3ba3958c360",
   "metadata": {},
   "outputs": [
    {
     "data": {
      "text/plain": [
       "array([12, 15, 18])"
      ]
     },
     "execution_count": 33,
     "metadata": {},
     "output_type": "execute_result"
    }
   ],
   "source": [
    "# Compute the sum along axis 0 (column-wise elements) of the array ar\n",
    "\n",
    "ar.sum(axis=0)"
   ]
  },
  {
   "cell_type": "code",
   "execution_count": 34,
   "id": "8de4556d-d153-4917-bbce-04c6c30db62d",
   "metadata": {},
   "outputs": [
    {
     "data": {
      "text/plain": [
       "array([ 6, 15, 24])"
      ]
     },
     "execution_count": 34,
     "metadata": {},
     "output_type": "execute_result"
    }
   ],
   "source": [
    "# Compute the sum along axis 1 of the array ar\n",
    "\n",
    "ar.sum(axis=1)"
   ]
  },
  {
   "cell_type": "code",
   "execution_count": 35,
   "id": "bcbf064e-a76f-4abd-a6a4-3f8ab7108e14",
   "metadata": {},
   "outputs": [
    {
     "data": {
      "text/plain": [
       "array([[1, 4, 7],\n",
       "       [2, 5, 8],\n",
       "       [3, 6, 9]])"
      ]
     },
     "execution_count": 35,
     "metadata": {},
     "output_type": "execute_result"
    }
   ],
   "source": [
    "# Transpose the array ar\n",
    "\n",
    "ar.T"
   ]
  },
  {
   "cell_type": "code",
   "execution_count": 36,
   "id": "a03365c5-01fb-43d6-9e3c-d2e818a91e7d",
   "metadata": {},
   "outputs": [
    {
     "name": "stdout",
     "output_type": "stream",
     "text": [
      "1\n",
      "2\n",
      "30\n",
      "11\n",
      "5\n",
      "10\n"
     ]
    }
   ],
   "source": [
    "# Create a 2x3 NumPy array and iterate through its flattened elements\n",
    "\n",
    "arr5 = np.array([[1,2,30], [11, 5, 10]])\n",
    "arr5\n",
    "\n",
    "for item in arr5.flat:\n",
    "    print(item)"
   ]
  },
  {
   "cell_type": "code",
   "execution_count": 37,
   "id": "54e69cb6-16b6-4bef-b866-9bb11e4d907c",
   "metadata": {},
   "outputs": [
    {
     "data": {
      "text/plain": [
       "2"
      ]
     },
     "execution_count": 37,
     "metadata": {},
     "output_type": "execute_result"
    }
   ],
   "source": [
    "# Get the number of dimensions of the array arr5\n",
    "\n",
    "arr5.ndim"
   ]
  },
  {
   "cell_type": "code",
   "execution_count": 38,
   "id": "61aab8e8-47a3-45f1-802c-9994da9553b2",
   "metadata": {},
   "outputs": [
    {
     "data": {
      "text/plain": [
       "6"
      ]
     },
     "execution_count": 38,
     "metadata": {},
     "output_type": "execute_result"
    }
   ],
   "source": [
    "# Get the number of elements in the array arr5\n",
    "\n",
    "arr5.size"
   ]
  },
  {
   "cell_type": "code",
   "execution_count": 39,
   "id": "cc4ff2f3-5f4b-4fb9-af67-c5e702f3cc10",
   "metadata": {},
   "outputs": [
    {
     "data": {
      "text/plain": [
       "24"
      ]
     },
     "execution_count": 39,
     "metadata": {},
     "output_type": "execute_result"
    }
   ],
   "source": [
    "# Get the number of bytes used by the array ar\n",
    "\n",
    "arr5.nbytes"
   ]
  },
  {
   "cell_type": "code",
   "execution_count": 40,
   "id": "7d36e22e-3c8a-4db8-86d7-4dffb4ea51ba",
   "metadata": {},
   "outputs": [
    {
     "data": {
      "text/plain": [
       "2"
      ]
     },
     "execution_count": 40,
     "metadata": {},
     "output_type": "execute_result"
    }
   ],
   "source": [
    "# Get the index of the maximum value in the array arr6\n",
    "\n",
    "arr6 = np.array([1, 57, 371, 76,-1, 32])\n",
    "arr6.argmax()"
   ]
  },
  {
   "cell_type": "code",
   "execution_count": 41,
   "id": "58676c20-86f4-4c8c-a3f0-58c21f64ecf4",
   "metadata": {},
   "outputs": [
    {
     "data": {
      "text/plain": [
       "4"
      ]
     },
     "execution_count": 41,
     "metadata": {},
     "output_type": "execute_result"
    }
   ],
   "source": [
    "# Get the index of the minimum value in the array arr6\n",
    "\n",
    "arr6.argmin()"
   ]
  },
  {
   "cell_type": "code",
   "execution_count": 42,
   "id": "bab8cd9f-6552-402b-8b0c-fba9df3f1ca9",
   "metadata": {},
   "outputs": [
    {
     "data": {
      "text/plain": [
       "array([4, 0, 5, 1, 3, 2], dtype=int64)"
      ]
     },
     "execution_count": 42,
     "metadata": {},
     "output_type": "execute_result"
    }
   ],
   "source": [
    "# Get the indices that would sort the array arr6\n",
    "\n",
    "arr6.argsort()"
   ]
  },
  {
   "cell_type": "code",
   "execution_count": 43,
   "id": "49fbeb9b-0b56-47f3-982e-07e0a66f69c9",
   "metadata": {},
   "outputs": [
    {
     "data": {
      "text/plain": [
       "4"
      ]
     },
     "execution_count": 43,
     "metadata": {},
     "output_type": "execute_result"
    }
   ],
   "source": [
    "# Get the index of the minimum value in the flattened array arr7\n",
    "\n",
    "arr7 = np.array([[3, 4, 7],\n",
    "       [21, 1, 8],\n",
    "       [4, 12, 9]])\n",
    "arr7.argmin()"
   ]
  },
  {
   "cell_type": "code",
   "execution_count": 44,
   "id": "7df82954-1ee3-415f-85c3-a0afa3944190",
   "metadata": {},
   "outputs": [
    {
     "data": {
      "text/plain": [
       "3"
      ]
     },
     "execution_count": 44,
     "metadata": {},
     "output_type": "execute_result"
    }
   ],
   "source": [
    "# Get the index of the maximum value in the flattened array arr7\n",
    "arr7.argmax()"
   ]
  },
  {
   "cell_type": "code",
   "execution_count": 45,
   "id": "8aa3a8fc-3438-44bf-b379-630346ca6cab",
   "metadata": {},
   "outputs": [
    {
     "data": {
      "text/plain": [
       "array([[0, 1, 2],\n",
       "       [1, 2, 0],\n",
       "       [0, 2, 1]], dtype=int64)"
      ]
     },
     "execution_count": 45,
     "metadata": {},
     "output_type": "execute_result"
    }
   ],
   "source": [
    "# Get the indices that would sort each row of the array arr7\n",
    "\n",
    "arr7.argsort()"
   ]
  },
  {
   "cell_type": "code",
   "execution_count": 46,
   "id": "b4b6a8a8-384a-4df1-bb5d-34ff4278c1d5",
   "metadata": {},
   "outputs": [
    {
     "data": {
      "text/plain": [
       "array([1, 2, 2], dtype=int64)"
      ]
     },
     "execution_count": 46,
     "metadata": {},
     "output_type": "execute_result"
    }
   ],
   "source": [
    "# Get the indices of the maximum values along axis 0 of the array arr7\n",
    "\n",
    "arr7.argmax(axis=0)"
   ]
  },
  {
   "cell_type": "code",
   "execution_count": 47,
   "id": "82702d0b-4b02-4664-aa9d-3ba0fe0ce866",
   "metadata": {},
   "outputs": [
    {
     "data": {
      "text/plain": [
       "array([2, 0, 1], dtype=int64)"
      ]
     },
     "execution_count": 47,
     "metadata": {},
     "output_type": "execute_result"
    }
   ],
   "source": [
    "arr7.argmax(axis=1)"
   ]
  },
  {
   "cell_type": "code",
   "execution_count": 48,
   "id": "385b465b-8612-41d2-8716-2c7d2c8128fe",
   "metadata": {},
   "outputs": [
    {
     "data": {
      "text/plain": [
       "array([ 3,  4,  7, 21,  1,  8,  4, 12,  9])"
      ]
     },
     "execution_count": 48,
     "metadata": {},
     "output_type": "execute_result"
    }
   ],
   "source": [
    "arr7.ravel()"
   ]
  },
  {
   "cell_type": "code",
   "execution_count": 49,
   "id": "2627f8ca-5224-4d52-a4d6-5b617519a154",
   "metadata": {},
   "outputs": [
    {
     "data": {
      "text/plain": [
       "array([[ 3],\n",
       "       [ 4],\n",
       "       [ 7],\n",
       "       [21],\n",
       "       [ 1],\n",
       "       [ 8],\n",
       "       [ 4],\n",
       "       [12],\n",
       "       [ 9]])"
      ]
     },
     "execution_count": 49,
     "metadata": {},
     "output_type": "execute_result"
    }
   ],
   "source": [
    "arr7.reshape((9,1))"
   ]
  },
  {
   "cell_type": "markdown",
   "id": "efba7789-698a-43c2-bd1e-9b44e23baad6",
   "metadata": {},
   "source": [
    "# Matrix Operations"
   ]
  },
  {
   "cell_type": "code",
   "execution_count": 51,
   "id": "77d23c9b-7b62-4c90-a317-becd6421fc86",
   "metadata": {},
   "outputs": [],
   "source": [
    "ar1 = np.array([[1, 4, 7],\n",
    "                [2, 5, 8],\n",
    "                [3, 6, 9]])"
   ]
  },
  {
   "cell_type": "code",
   "execution_count": 52,
   "id": "157306bc-862b-4077-a8b3-75ffe531347b",
   "metadata": {},
   "outputs": [],
   "source": [
    "ar2 = np.array([[1, 2, 3],\n",
    "                [4, 5, 6],\n",
    "                [0, 1, 2]])"
   ]
  },
  {
   "cell_type": "code",
   "execution_count": 53,
   "id": "ca3f136d-50ff-4799-a15f-5e554fe55c32",
   "metadata": {},
   "outputs": [
    {
     "name": "stdout",
     "output_type": "stream",
     "text": [
      "[[ 2  6 10]\n",
      " [ 6 10 14]\n",
      " [ 3  7 11]]\n"
     ]
    }
   ],
   "source": [
    "ar3 = ar1 + ar2\n",
    "print(ar3)"
   ]
  },
  {
   "cell_type": "code",
   "execution_count": 54,
   "id": "9d77f486-e81b-4786-bc8d-bc610074c2a0",
   "metadata": {},
   "outputs": [],
   "source": [
    "ar4 = np.array([[1, 4, 9],\n",
    "                [121, 25, 0],\n",
    "                [225, 36, 49]])"
   ]
  },
  {
   "cell_type": "code",
   "execution_count": 55,
   "id": "2756676b-d2fe-44a3-97cf-07adb9be3414",
   "metadata": {},
   "outputs": [
    {
     "data": {
      "text/plain": [
       "array([[ 1.,  2.,  3.],\n",
       "       [11.,  5.,  0.],\n",
       "       [15.,  6.,  7.]])"
      ]
     },
     "execution_count": 55,
     "metadata": {},
     "output_type": "execute_result"
    }
   ],
   "source": [
    "np.sqrt(ar4)"
   ]
  },
  {
   "cell_type": "code",
   "execution_count": 56,
   "id": "f3ad10f0-3e59-4e5c-87be-12e252a5b875",
   "metadata": {},
   "outputs": [
    {
     "data": {
      "text/plain": [
       "470"
      ]
     },
     "execution_count": 56,
     "metadata": {},
     "output_type": "execute_result"
    }
   ],
   "source": [
    "ar4.sum()"
   ]
  },
  {
   "cell_type": "code",
   "execution_count": 57,
   "id": "8fedf767-147e-45e5-8f8f-466764910840",
   "metadata": {},
   "outputs": [
    {
     "data": {
      "text/plain": [
       "225"
      ]
     },
     "execution_count": 57,
     "metadata": {},
     "output_type": "execute_result"
    }
   ],
   "source": [
    "ar4.max()"
   ]
  },
  {
   "cell_type": "code",
   "execution_count": 58,
   "id": "4245fd10-3aa1-4774-8bf6-374582a8272e",
   "metadata": {},
   "outputs": [
    {
     "data": {
      "text/plain": [
       "0"
      ]
     },
     "execution_count": 58,
     "metadata": {},
     "output_type": "execute_result"
    }
   ],
   "source": [
    "ar4.min()"
   ]
  },
  {
   "cell_type": "code",
   "execution_count": 59,
   "id": "d4c80a3e-5d4a-4828-a463-772542fe56f5",
   "metadata": {},
   "outputs": [
    {
     "data": {
      "text/plain": [
       "(array([1, 2], dtype=int64), array([0, 0], dtype=int64))"
      ]
     },
     "execution_count": 59,
     "metadata": {},
     "output_type": "execute_result"
    }
   ],
   "source": [
    "# Get the indices of elements in ar4 that are greater than 50\n",
    "\n",
    "np.where(ar4 > 50)"
   ]
  },
  {
   "cell_type": "code",
   "execution_count": 60,
   "id": "92a15aa9-4d00-4f10-83d2-1a5308323eef",
   "metadata": {},
   "outputs": [
    {
     "data": {
      "text/plain": [
       "8"
      ]
     },
     "execution_count": 60,
     "metadata": {},
     "output_type": "execute_result"
    }
   ],
   "source": [
    "# Count the number of non-zero elements in the array ar4\n",
    "\n",
    "np.count_nonzero(ar4)"
   ]
  },
  {
   "cell_type": "code",
   "execution_count": 120,
   "id": "5fbf777b-c407-4a4e-bba3-dc87ee5c2d9b",
   "metadata": {},
   "outputs": [
    {
     "data": {
      "text/plain": [
       "(array([0, 0, 0, 1, 1, 2, 2, 2], dtype=int64),\n",
       " array([0, 1, 2, 0, 1, 0, 1, 2], dtype=int64))"
      ]
     },
     "execution_count": 120,
     "metadata": {},
     "output_type": "execute_result"
    }
   ],
   "source": [
    "# Get the indices of non-zero elements in ar4\n",
    "\n",
    "np.nonzero(ar4)"
   ]
  },
  {
   "cell_type": "code",
   "execution_count": 122,
   "id": "3f2316cf-a359-44bb-81a5-c06892f651ab",
   "metadata": {},
   "outputs": [
    {
     "data": {
      "text/plain": [
       "array([[  2,   5,  10],\n",
       "       [122,  26,   1],\n",
       "       [226,  37,  50]])"
      ]
     },
     "execution_count": 122,
     "metadata": {},
     "output_type": "execute_result"
    }
   ],
   "source": [
    "ar5 = np.array([[1, 4, 9],\n",
    "                [121, 25, 0],\n",
    "                [225, 36, 49]])"
   ]
  },
  {
   "cell_type": "code",
   "execution_count": null,
   "id": "03b445a4-e209-448c-9c4e-67bbb5e51320",
   "metadata": {},
   "outputs": [],
   "source": [
    "# Add 1 to each element of the array ar5\n",
    "\n",
    "ar5+1"
   ]
  },
  {
   "cell_type": "code",
   "execution_count": 124,
   "id": "35adf094-c4aa-441b-9e02-05d78d93acf3",
   "metadata": {},
   "outputs": [
    {
     "data": {
      "text/plain": [
       "array([[  0,   3,   8],\n",
       "       [120,  24,  -1],\n",
       "       [224,  35,  48]])"
      ]
     },
     "execution_count": 124,
     "metadata": {},
     "output_type": "execute_result"
    }
   ],
   "source": [
    "# Subtract 1 from each element of the array ar5\n",
    "\n",
    "ar5-1"
   ]
  },
  {
   "cell_type": "code",
   "execution_count": 128,
   "id": "62a6efe2-6aee-402d-aaba-7d13f647729f",
   "metadata": {},
   "outputs": [
    {
     "data": {
      "text/plain": [
       "array([[  2,   8,  18],\n",
       "       [242,  50,   0],\n",
       "       [450,  72,  98]])"
      ]
     },
     "execution_count": 128,
     "metadata": {},
     "output_type": "execute_result"
    }
   ],
   "source": [
    "# Multiply each element of the array ar5 by 2\n",
    "\n",
    "ar5*2"
   ]
  },
  {
   "cell_type": "code",
   "execution_count": 130,
   "id": "bccebbe6-72bd-4790-aa09-a91be3ae2e96",
   "metadata": {},
   "outputs": [
    {
     "data": {
      "text/plain": [
       "array([[    1,    16,    81],\n",
       "       [14641,   625,     0],\n",
       "       [50625,  1296,  2401]])"
      ]
     },
     "execution_count": 130,
     "metadata": {},
     "output_type": "execute_result"
    }
   ],
   "source": [
    "# Square each element of the array ar5\n",
    "\n",
    "ar5**2"
   ]
  },
  {
   "cell_type": "code",
   "execution_count": 132,
   "id": "822b4165-c927-458c-8a44-e13765c82b9e",
   "metadata": {},
   "outputs": [
    {
     "data": {
      "text/plain": [
       "array([[  1, 121, 225],\n",
       "       [  4,  25,  36],\n",
       "       [  9,   0,  49]])"
      ]
     },
     "execution_count": 132,
     "metadata": {},
     "output_type": "execute_result"
    }
   ],
   "source": [
    "# Transpose the array ar5\n",
    "\n",
    "ar5.T"
   ]
  },
  {
   "cell_type": "code",
   "execution_count": null,
   "id": "74bb179d-0421-4db1-a01c-fe816d8ec91c",
   "metadata": {},
   "outputs": [],
   "source": []
  }
 ],
 "metadata": {
  "kernelspec": {
   "display_name": "Python 3 (ipykernel)",
   "language": "python",
   "name": "python3"
  },
  "language_info": {
   "codemirror_mode": {
    "name": "ipython",
    "version": 3
   },
   "file_extension": ".py",
   "mimetype": "text/x-python",
   "name": "python",
   "nbconvert_exporter": "python",
   "pygments_lexer": "ipython3",
   "version": "3.11.7"
  }
 },
 "nbformat": 4,
 "nbformat_minor": 5
}
