{
 "cells": [
  {
   "cell_type": "markdown",
   "metadata": {
    "id": "taSVrp4iaSi4"
   },
   "source": [
    "# Numpy Exercise"
   ]
  },
  {
   "cell_type": "markdown",
   "metadata": {
    "id": "KWUx73P2aSi7"
   },
   "source": [
    "#### 1. Import the numpy package under the name as np  "
   ]
  },
  {
   "cell_type": "code",
   "execution_count": 63,
   "metadata": {
    "collapsed": true,
    "executionInfo": {
     "elapsed": 1408,
     "status": "ok",
     "timestamp": 1720084586585,
     "user": {
      "displayName": "Aaditya Kumar",
      "userId": "02834763275534680952"
     },
     "user_tz": -330
    },
    "id": "1rh9qJuKaSi9",
    "jupyter": {
     "outputs_hidden": true
    }
   },
   "outputs": [],
   "source": [
    "import numpy as np"
   ]
  },
  {
   "cell_type": "markdown",
   "metadata": {
    "id": "H8OYi-LQaSi-"
   },
   "source": [
    "#### 2. Print the numpy version and the configuration"
   ]
  },
  {
   "cell_type": "code",
   "execution_count": 64,
   "metadata": {
    "colab": {
     "base_uri": "https://localhost:8080/"
    },
    "executionInfo": {
     "elapsed": 6160,
     "status": "ok",
     "timestamp": 1720084593485,
     "user": {
      "displayName": "Aaditya Kumar",
      "userId": "02834763275534680952"
     },
     "user_tz": -330
    },
    "id": "AABxXyDtaSi_",
    "outputId": "1b327cdd-2741-4a41-9775-61f66d4d9390"
   },
   "outputs": [
    {
     "name": "stdout",
     "output_type": "stream",
     "text": [
      "Name: numpy\n",
      "Version: 1.25.2\n",
      "Summary: Fundamental package for array computing in Python\n",
      "Home-page: https://www.numpy.org\n",
      "Author: Travis E. Oliphant et al.\n",
      "Author-email: \n",
      "License: BSD-3-Clause\n",
      "Location: /usr/local/lib/python3.10/dist-packages\n",
      "Requires: \n",
      "Required-by: albumentations, altair, arviz, astropy, autograd, blis, bokeh, bqplot, chex, cmdstanpy, contourpy, cudf-cu12, cufflinks, cupy-cuda12x, cvxpy, datascience, db-dtypes, dopamine_rl, ecos, flax, folium, geemap, gensim, gym, h5py, holoviews, hyperopt, ibis-framework, imageio, imbalanced-learn, imgaug, jax, jaxlib, librosa, lightgbm, matplotlib, matplotlib-venn, missingno, mizani, ml-dtypes, mlxtend, moviepy, music21, nibabel, numba, numexpr, opencv-contrib-python, opencv-python, opencv-python-headless, opt-einsum, optax, orbax-checkpoint, osqp, pandas, pandas-gbq, pandas-stubs, patsy, plotnine, prophet, pyarrow, pycocotools, pyerfa, pymc, pytensor, python-louvain, PyWavelets, qdldl, qudida, rmm-cu12, scikit-image, scikit-learn, scipy, scs, seaborn, shapely, sklearn-pandas, soxr, spacy, stanio, statsmodels, tables, tensorboard, tensorflow, tensorflow-datasets, tensorflow-hub, tensorflow-probability, tensorstore, thinc, tifffile, torchtext, torchvision, transformers, wordcloud, xarray, xarray-einstats, xgboost, yellowbrick, yfinance\n"
     ]
    }
   ],
   "source": [
    "!pip show numpy"
   ]
  },
  {
   "cell_type": "markdown",
   "metadata": {
    "id": "elCw8t6caSjA"
   },
   "source": [
    "#### 3. Create a null vector of size 10"
   ]
  },
  {
   "cell_type": "code",
   "execution_count": 66,
   "metadata": {
    "colab": {
     "base_uri": "https://localhost:8080/"
    },
    "executionInfo": {
     "elapsed": 432,
     "status": "ok",
     "timestamp": 1720084602167,
     "user": {
      "displayName": "Aaditya Kumar",
      "userId": "02834763275534680952"
     },
     "user_tz": -330
    },
    "id": "Ssmnk3qEaSjA",
    "outputId": "343992a3-c500-41b2-e270-3a0df091bb87"
   },
   "outputs": [
    {
     "name": "stdout",
     "output_type": "stream",
     "text": [
      "[0. 0. 0. 0. 0. 0. 0. 0. 0. 0.]\n"
     ]
    }
   ],
   "source": [
    "nv = np.zeros(10)\n",
    "print(nv)"
   ]
  },
  {
   "cell_type": "markdown",
   "metadata": {
    "id": "n1ne2EbYaSjB"
   },
   "source": [
    "#### 4.  How to find the memory size of any array"
   ]
  },
  {
   "cell_type": "code",
   "execution_count": 67,
   "metadata": {
    "colab": {
     "base_uri": "https://localhost:8080/"
    },
    "executionInfo": {
     "elapsed": 4,
     "status": "ok",
     "timestamp": 1720084603983,
     "user": {
      "displayName": "Aaditya Kumar",
      "userId": "02834763275534680952"
     },
     "user_tz": -330
    },
    "id": "agq_k_EcaSjC",
    "outputId": "7a08b03e-0b51-4f86-d464-e644c22780ec"
   },
   "outputs": [
    {
     "name": "stdout",
     "output_type": "stream",
     "text": [
      "10\n"
     ]
    }
   ],
   "source": [
    "print(nv.size)"
   ]
  },
  {
   "cell_type": "markdown",
   "metadata": {
    "id": "KUGOZ6rhaSjE"
   },
   "source": [
    "#### 5.  How to get the documentation of the numpy add function from the command line?"
   ]
  },
  {
   "cell_type": "code",
   "execution_count": 68,
   "metadata": {
    "colab": {
     "base_uri": "https://localhost:8080/"
    },
    "collapsed": true,
    "executionInfo": {
     "elapsed": 3,
     "status": "ok",
     "timestamp": 1720084605481,
     "user": {
      "displayName": "Aaditya Kumar",
      "userId": "02834763275534680952"
     },
     "user_tz": -330
    },
    "id": "TgMT7cffaSjF",
    "jupyter": {
     "outputs_hidden": true
    },
    "outputId": "0ff1dea8-baf1-446f-8a0e-c8efeeb132c5"
   },
   "outputs": [
    {
     "name": "stdout",
     "output_type": "stream",
     "text": [
      "add(x1, x2, /, out=None, *, where=True, casting='same_kind', order='K', dtype=None, subok=True[, signature, extobj])\n",
      "\n",
      "Add arguments element-wise.\n",
      "\n",
      "Parameters\n",
      "----------\n",
      "x1, x2 : array_like\n",
      "    The arrays to be added.\n",
      "    If ``x1.shape != x2.shape``, they must be broadcastable to a common\n",
      "    shape (which becomes the shape of the output).\n",
      "out : ndarray, None, or tuple of ndarray and None, optional\n",
      "    A location into which the result is stored. If provided, it must have\n",
      "    a shape that the inputs broadcast to. If not provided or None,\n",
      "    a freshly-allocated array is returned. A tuple (possible only as a\n",
      "    keyword argument) must have length equal to the number of outputs.\n",
      "where : array_like, optional\n",
      "    This condition is broadcast over the input. At locations where the\n",
      "    condition is True, the `out` array will be set to the ufunc result.\n",
      "    Elsewhere, the `out` array will retain its original value.\n",
      "    Note that if an uninitialized `out` array is created via the default\n",
      "    ``out=None``, locations within it where the condition is False will\n",
      "    remain uninitialized.\n",
      "**kwargs\n",
      "    For other keyword-only arguments, see the\n",
      "    :ref:`ufunc docs <ufuncs.kwargs>`.\n",
      "\n",
      "Returns\n",
      "-------\n",
      "add : ndarray or scalar\n",
      "    The sum of `x1` and `x2`, element-wise.\n",
      "    This is a scalar if both `x1` and `x2` are scalars.\n",
      "\n",
      "Notes\n",
      "-----\n",
      "Equivalent to `x1` + `x2` in terms of array broadcasting.\n",
      "\n",
      "Examples\n",
      "--------\n",
      ">>> np.add(1.0, 4.0)\n",
      "5.0\n",
      ">>> x1 = np.arange(9.0).reshape((3, 3))\n",
      ">>> x2 = np.arange(3.0)\n",
      ">>> np.add(x1, x2)\n",
      "array([[  0.,   2.,   4.],\n",
      "       [  3.,   5.,   7.],\n",
      "       [  6.,   8.,  10.]])\n",
      "\n",
      "The ``+`` operator can be used as a shorthand for ``np.add`` on ndarrays.\n",
      "\n",
      ">>> x1 = np.arange(9.0).reshape((3, 3))\n",
      ">>> x2 = np.arange(3.0)\n",
      ">>> x1 + x2\n",
      "array([[ 0.,  2.,  4.],\n",
      "       [ 3.,  5.,  7.],\n",
      "       [ 6.,  8., 10.]])\n",
      "None\n"
     ]
    }
   ],
   "source": [
    "print(np.info(np.add))"
   ]
  },
  {
   "cell_type": "markdown",
   "metadata": {
    "id": "NVL-oderaSjG"
   },
   "source": [
    "#### 6.  Create a null vector of size 10 but the fifth value which is 1"
   ]
  },
  {
   "cell_type": "code",
   "execution_count": 69,
   "metadata": {
    "colab": {
     "base_uri": "https://localhost:8080/"
    },
    "executionInfo": {
     "elapsed": 782,
     "status": "ok",
     "timestamp": 1720084611270,
     "user": {
      "displayName": "Aaditya Kumar",
      "userId": "02834763275534680952"
     },
     "user_tz": -330
    },
    "id": "rsH3jZk1aSjG",
    "outputId": "d83c87e5-9cde-4e84-9515-bfa7dfe5a273"
   },
   "outputs": [
    {
     "name": "stdout",
     "output_type": "stream",
     "text": [
      "[0. 0. 0. 0. 1. 0. 0. 0. 0. 0.]\n"
     ]
    }
   ],
   "source": [
    "null_v = np.zeros(10)\n",
    "null_v[4] = 1\n",
    "print(null_v)"
   ]
  },
  {
   "cell_type": "markdown",
   "metadata": {
    "id": "N4OVGNkzaSjH"
   },
   "source": [
    "#### 7.  Create a vector with values ranging from 10 to 49"
   ]
  },
  {
   "cell_type": "code",
   "execution_count": 71,
   "metadata": {
    "colab": {
     "base_uri": "https://localhost:8080/"
    },
    "executionInfo": {
     "elapsed": 455,
     "status": "ok",
     "timestamp": 1720084615683,
     "user": {
      "displayName": "Aaditya Kumar",
      "userId": "02834763275534680952"
     },
     "user_tz": -330
    },
    "id": "CiQtk6ZkaSjI",
    "outputId": "21f59162-fdbd-48ef-9a3f-531e5eea5421"
   },
   "outputs": [
    {
     "name": "stdout",
     "output_type": "stream",
     "text": [
      "[10 11 12 13 14 15 16 17 18 19 20 21 22 23 24 25 26 27 28 29 30 31 32 33\n",
      " 34 35 36 37 38 39 40 41 42 43 44 45 46 47 48]\n"
     ]
    }
   ],
   "source": [
    "avec = np.arange(10, 49)\n",
    "print(avec)"
   ]
  },
  {
   "cell_type": "markdown",
   "metadata": {
    "id": "US-_eEOjaSjI"
   },
   "source": [
    "#### 8.  Reverse a vector (first element becomes last)"
   ]
  },
  {
   "cell_type": "code",
   "execution_count": 72,
   "metadata": {
    "colab": {
     "base_uri": "https://localhost:8080/"
    },
    "executionInfo": {
     "elapsed": 3,
     "status": "ok",
     "timestamp": 1720084617903,
     "user": {
      "displayName": "Aaditya Kumar",
      "userId": "02834763275534680952"
     },
     "user_tz": -330
    },
    "id": "7Hk0bv5taSjJ",
    "outputId": "fafd463d-f4a0-444e-f184-e40781cc1ee2"
   },
   "outputs": [
    {
     "name": "stdout",
     "output_type": "stream",
     "text": [
      "[48 47 46 45 44 43 42 41 40 39 38 37 36 35 34 33 32 31 30 29 28 27 26 25\n",
      " 24 23 22 21 20 19 18 17 16 15 14 13 12 11 10]\n"
     ]
    }
   ],
   "source": [
    "avec = avec[::-1]\n",
    "print(avec)"
   ]
  },
  {
   "cell_type": "markdown",
   "metadata": {
    "id": "jddiqoeaaSjJ"
   },
   "source": [
    "#### 9.  Create a 3x3 matrix with values ranging from 0 to 8"
   ]
  },
  {
   "cell_type": "code",
   "execution_count": 73,
   "metadata": {
    "colab": {
     "base_uri": "https://localhost:8080/"
    },
    "executionInfo": {
     "elapsed": 1206,
     "status": "ok",
     "timestamp": 1720084621344,
     "user": {
      "displayName": "Aaditya Kumar",
      "userId": "02834763275534680952"
     },
     "user_tz": -330
    },
    "id": "hFZkHre2aSjK",
    "outputId": "0b7417a6-5bd0-4e62-d7ad-5c2979cd0909"
   },
   "outputs": [
    {
     "name": "stdout",
     "output_type": "stream",
     "text": [
      "[[0 1 2]\n",
      " [3 4 5]\n",
      " [6 7 8]]\n"
     ]
    }
   ],
   "source": [
    "mat1 = np.arange(0, 9).reshape(3, 3)\n",
    "print(mat1)"
   ]
  },
  {
   "cell_type": "markdown",
   "metadata": {
    "id": "DtP9loQ0aSjK"
   },
   "source": [
    "#### 10. Find indices of non-zero elements from \\[1,2,0,0,4,0\\]"
   ]
  },
  {
   "cell_type": "code",
   "execution_count": 74,
   "metadata": {
    "colab": {
     "base_uri": "https://localhost:8080/"
    },
    "executionInfo": {
     "elapsed": 6,
     "status": "ok",
     "timestamp": 1720084621344,
     "user": {
      "displayName": "Aaditya Kumar",
      "userId": "02834763275534680952"
     },
     "user_tz": -330
    },
    "id": "6LujYF_HaSjL",
    "outputId": "e2735d4c-3844-42de-aeda-f1f6ee578b45"
   },
   "outputs": [
    {
     "name": "stdout",
     "output_type": "stream",
     "text": [
      "(array([0, 1, 4]),)\n"
     ]
    }
   ],
   "source": [
    "elem = np.array([1,2,0,0,4,0])\n",
    "print(np.nonzero(elem))"
   ]
  },
  {
   "cell_type": "markdown",
   "metadata": {
    "id": "JredeBf6aSjM"
   },
   "source": [
    "#### 11. Create a 3x3 identity matrix"
   ]
  },
  {
   "cell_type": "code",
   "execution_count": 75,
   "metadata": {
    "colab": {
     "base_uri": "https://localhost:8080/"
    },
    "executionInfo": {
     "elapsed": 1,
     "status": "ok",
     "timestamp": 1720084622100,
     "user": {
      "displayName": "Aaditya Kumar",
      "userId": "02834763275534680952"
     },
     "user_tz": -330
    },
    "id": "WIu8s8TmaSjM",
    "outputId": "09dc3207-2886-4887-bb73-2f467b312412"
   },
   "outputs": [
    {
     "name": "stdout",
     "output_type": "stream",
     "text": [
      "[[1. 0. 0.]\n",
      " [0. 1. 0.]\n",
      " [0. 0. 1.]]\n"
     ]
    }
   ],
   "source": [
    "ide = np.identity(3)\n",
    "print(ide)"
   ]
  },
  {
   "cell_type": "markdown",
   "metadata": {
    "id": "_Kt_uP0ZaSjN"
   },
   "source": [
    "#### 12. Create a 3x3x3 array with random values"
   ]
  },
  {
   "cell_type": "code",
   "execution_count": 76,
   "metadata": {
    "colab": {
     "base_uri": "https://localhost:8080/"
    },
    "collapsed": true,
    "executionInfo": {
     "elapsed": 1383,
     "status": "ok",
     "timestamp": 1720084627510,
     "user": {
      "displayName": "Aaditya Kumar",
      "userId": "02834763275534680952"
     },
     "user_tz": -330
    },
    "id": "FT_z9t0PaSjN",
    "jupyter": {
     "outputs_hidden": true
    },
    "outputId": "89bd18eb-5b74-482c-c2e4-dee7ce29a950"
   },
   "outputs": [
    {
     "name": "stdout",
     "output_type": "stream",
     "text": [
      "[[[0.30221598 0.85277332 0.78868247]\n",
      "  [0.45125593 0.04231232 0.91634344]\n",
      "  [0.71573248 0.6460192  0.3768411 ]]\n",
      "\n",
      " [[0.51003937 0.63531059 0.04392815]\n",
      "  [0.98817551 0.64250518 0.79982137]\n",
      "  [0.73643363 0.45373693 0.1093208 ]]\n",
      "\n",
      " [[0.68073792 0.44157572 0.10435819]\n",
      "  [0.6445239  0.27871227 0.8687612 ]\n",
      "  [0.37943249 0.7949971  0.20741346]]]\n"
     ]
    }
   ],
   "source": [
    "arr = np.random.rand(3, 3, 3)\n",
    "print(arr)"
   ]
  },
  {
   "cell_type": "markdown",
   "metadata": {
    "id": "RyWEEcOBaSjO"
   },
   "source": [
    "#### 13. Create a 10x10 array with random values and find the minimum and maximum values"
   ]
  },
  {
   "cell_type": "code",
   "execution_count": 77,
   "metadata": {
    "colab": {
     "base_uri": "https://localhost:8080/"
    },
    "executionInfo": {
     "elapsed": 7,
     "status": "ok",
     "timestamp": 1720084627510,
     "user": {
      "displayName": "Aaditya Kumar",
      "userId": "02834763275534680952"
     },
     "user_tz": -330
    },
    "id": "Q0SwTMuNaSjO",
    "outputId": "99d47bb4-52c5-41a5-dd8c-84c10fa2824f"
   },
   "outputs": [
    {
     "name": "stdout",
     "output_type": "stream",
     "text": [
      "[[0.1320277  0.52095857 0.04685133 0.19558388 0.12553607 0.50549882\n",
      "  0.21224291 0.74370411 0.79097796 0.73186133]\n",
      " [0.73738095 0.47758492 0.08489478 0.26321234 0.16481779 0.45013811\n",
      "  0.61748777 0.08464431 0.42615046 0.93422156]\n",
      " [0.52513921 0.54957098 0.79669103 0.28600422 0.68526729 0.50610428\n",
      "  0.56403837 0.94750064 0.34249098 0.02821588]\n",
      " [0.68207968 0.12006081 0.47429186 0.0338859  0.18245529 0.1916237\n",
      "  0.8274376  0.64228758 0.83654537 0.15512556]\n",
      " [0.30502067 0.43289531 0.29252822 0.71889837 0.81893766 0.14992704\n",
      "  0.40870078 0.33242713 0.83617031 0.86747303]\n",
      " [0.15888144 0.50641373 0.07568223 0.39961414 0.87308843 0.22790661\n",
      "  0.07120733 0.30232926 0.84439731 0.79196811]\n",
      " [0.82147062 0.03048532 0.75683858 0.82933865 0.54357868 0.74686048\n",
      "  0.39922454 0.83165401 0.80808808 0.46645122]\n",
      " [0.42880909 0.81448491 0.6570415  0.37760948 0.454303   0.45097131\n",
      "  0.13209534 0.45199069 0.87166703 0.63182503]\n",
      " [0.75883669 0.70180127 0.54523909 0.20499551 0.31158231 0.73282624\n",
      "  0.70839502 0.92810523 0.48074718 0.51115327]\n",
      " [0.65618428 0.72553429 0.96842579 0.95335251 0.13467842 0.51552068\n",
      "  0.96130114 0.11196437 0.41874751 0.92434673]]\n",
      "0.028215882243545765\n",
      "0.9684257914391872\n"
     ]
    }
   ],
   "source": [
    "arr2 = np.random.rand(10,10)\n",
    "print(arr2)\n",
    "print(np.min(arr2))\n",
    "print(np.max(arr2))"
   ]
  },
  {
   "cell_type": "markdown",
   "metadata": {
    "id": "7JVb-VYWaSjO"
   },
   "source": [
    "#### 14. Create a random vector of size 30 and find the mean value"
   ]
  },
  {
   "cell_type": "code",
   "execution_count": 78,
   "metadata": {
    "colab": {
     "base_uri": "https://localhost:8080/"
    },
    "executionInfo": {
     "elapsed": 637,
     "status": "ok",
     "timestamp": 1720084631534,
     "user": {
      "displayName": "Aaditya Kumar",
      "userId": "02834763275534680952"
     },
     "user_tz": -330
    },
    "id": "UhdYLKuGaSjP",
    "outputId": "caa7c7d7-e1ad-47b4-eb15-fecf6ee8d9d0"
   },
   "outputs": [
    {
     "name": "stdout",
     "output_type": "stream",
     "text": [
      "[0.45630786 0.59518985 0.91768827 0.7548642  0.43567996 0.29465867\n",
      " 0.49327791 0.83565213 0.26730213 0.99893582 0.89988592 0.92948302\n",
      " 0.92277838 0.70772901 0.93337755 0.09353211 0.73848504 0.5071659\n",
      " 0.76927626 0.08200676 0.27596849 0.38074178 0.90841371 0.62898048\n",
      " 0.26184863 0.46859096 0.1897706  0.03200833 0.73053255 0.94326237]\n",
      "0.5817798213596129\n"
     ]
    }
   ],
   "source": [
    "rvec = np.random.rand(30)\n",
    "print(rvec)\n",
    "print(np.mean(rvec))"
   ]
  },
  {
   "cell_type": "markdown",
   "metadata": {
    "id": "wE3ks-xnaSjP"
   },
   "source": [
    "#### 15. Create a 2d array with 1 on the border and 0 inside"
   ]
  },
  {
   "cell_type": "code",
   "execution_count": 79,
   "metadata": {
    "colab": {
     "base_uri": "https://localhost:8080/"
    },
    "executionInfo": {
     "elapsed": 2,
     "status": "ok",
     "timestamp": 1720084632287,
     "user": {
      "displayName": "Aaditya Kumar",
      "userId": "02834763275534680952"
     },
     "user_tz": -330
    },
    "id": "0OB4QjwbaSjQ",
    "outputId": "dbc87231-a85c-4042-f6b7-e513c4396f91"
   },
   "outputs": [
    {
     "name": "stdout",
     "output_type": "stream",
     "text": [
      "[[1. 1. 1. 1.]\n",
      " [1. 0. 0. 1.]\n",
      " [1. 0. 0. 1.]\n",
      " [1. 1. 1. 1.]]\n"
     ]
    }
   ],
   "source": [
    "arr2d = np.zeros((2,2))\n",
    "arr2d = np.pad(arr2d, pad_width = 1,mode='constant', constant_values = 1)\n",
    "print(arr2d)"
   ]
  },
  {
   "cell_type": "markdown",
   "metadata": {
    "id": "jGrDN1OOaSjQ"
   },
   "source": [
    "#### 16. How to add a border (filled with 0's) around an existing array?"
   ]
  },
  {
   "cell_type": "code",
   "execution_count": 80,
   "metadata": {
    "colab": {
     "base_uri": "https://localhost:8080/"
    },
    "executionInfo": {
     "elapsed": 456,
     "status": "ok",
     "timestamp": 1720084636408,
     "user": {
      "displayName": "Aaditya Kumar",
      "userId": "02834763275534680952"
     },
     "user_tz": -330
    },
    "id": "Hh0BLKEfaSjR",
    "outputId": "71ef3194-5259-414d-f414-d9a6c9eee9ab"
   },
   "outputs": [
    {
     "name": "stdout",
     "output_type": "stream",
     "text": [
      "[[ 1  1  1  1  1  1]\n",
      " [ 1 45 79  1 25  1]\n",
      " [ 1 87 14 19 39  1]\n",
      " [ 1  6 54 30 69  1]\n",
      " [ 1  1  1  1  1  1]]\n"
     ]
    }
   ],
   "source": [
    "myarr = np.random.randint(1,100, size=(3,4))\n",
    "myarr = np.pad(myarr,pad_width = 1, mode = 'constant', constant_values = 1)\n",
    "print(myarr)"
   ]
  },
  {
   "cell_type": "markdown",
   "metadata": {
    "id": "HFfa4yYQaSjR"
   },
   "source": [
    "#### 17. What is the result of the following expression?"
   ]
  },
  {
   "cell_type": "markdown",
   "metadata": {
    "id": "eqH67mQRaSjR"
   },
   "source": [
    "```python\n",
    "0 * np.nan\n",
    "np.nan == np.nan\n",
    "np.inf > np.nan\n",
    "np.nan - np.nan\n",
    "np.nan in set([np.nan])\n",
    "0.3 == 3 * 0.1\n",
    "```"
   ]
  },
  {
   "cell_type": "markdown",
   "metadata": {
    "id": "NHpzHmiACPFD"
   },
   "source": [
    "* `0 * np.nan` -> nan : multilpying 0 by np.nan results in nan(not a number)\n",
    "* `np.nan == np.nan` -> false : any comparison with nan gives 'false'\n",
    "* `np.inf > np.nan` -> false : any comparison with nan gives 'false'\n",
    "* `np.nan - np.nan` -> np.nan : any airthmetic operations with np.nan gives nan\n",
    "* `np.nan in set([np.nan])` -> True : Checking if np.nan is in a set containing np.nan, returns True\n",
    "* `0.3 == 3 * 0.1` -> True"
   ]
  },
  {
   "cell_type": "markdown",
   "metadata": {
    "id": "ECM9pu-ZaSjS"
   },
   "source": [
    "#### 18. Create a 5x5 matrix with values 1,2,3,4 just below the diagonal"
   ]
  },
  {
   "cell_type": "code",
   "execution_count": 82,
   "metadata": {
    "colab": {
     "base_uri": "https://localhost:8080/"
    },
    "executionInfo": {
     "elapsed": 694,
     "status": "ok",
     "timestamp": 1720084801331,
     "user": {
      "displayName": "Aaditya Kumar",
      "userId": "02834763275534680952"
     },
     "user_tz": -330
    },
    "id": "Cx7t9xuYaSjS",
    "outputId": "f57e2488-20f2-4967-a3be-54d944e0aea7"
   },
   "outputs": [
    {
     "name": "stdout",
     "output_type": "stream",
     "text": [
      "[[0 0 0 0 0]\n",
      " [1 0 0 0 0]\n",
      " [0 2 0 0 0]\n",
      " [0 0 3 0 0]\n",
      " [0 0 0 4 0]]\n"
     ]
    }
   ],
   "source": [
    "mat = np.arange(0, 25).reshape(5, 5)\n",
    "val = np.array([1, 2, 3, 4])\n",
    "\n",
    "res = np.diag(val, k=-1)\n",
    "print(res)"
   ]
  },
  {
   "cell_type": "markdown",
   "metadata": {
    "id": "f036ifI7aSjT"
   },
   "source": [
    "#### 19. Create a 8x8 matrix and fill it with a checkerboard pattern"
   ]
  },
  {
   "cell_type": "code",
   "execution_count": 83,
   "metadata": {
    "colab": {
     "base_uri": "https://localhost:8080/"
    },
    "executionInfo": {
     "elapsed": 2,
     "status": "ok",
     "timestamp": 1720084802138,
     "user": {
      "displayName": "Aaditya Kumar",
      "userId": "02834763275534680952"
     },
     "user_tz": -330
    },
    "id": "tI0c6JQdaSjU",
    "outputId": "f16ef99f-6a93-43a0-9c8c-69ec91c10ab8"
   },
   "outputs": [
    {
     "name": "stdout",
     "output_type": "stream",
     "text": [
      "[[0. 1. 0. 1. 0.]\n",
      " [1. 0. 1. 0. 1.]\n",
      " [0. 1. 0. 1. 0.]\n",
      " [1. 0. 1. 0. 1.]\n",
      " [0. 1. 0. 1. 0.]]\n"
     ]
    }
   ],
   "source": [
    "matr = np.ones((3, 3))\n",
    "matr = np.zeros((5, 5))\n",
    "matr[1::2, ::2] = 1\n",
    "matr[::2, 1::2] = 1\n",
    "print(matr)"
   ]
  },
  {
   "cell_type": "markdown",
   "metadata": {
    "id": "2-5MKoMQaSjU"
   },
   "source": [
    "\n",
    "20. Consider a (6,7,8) shape array, what is the index (x,y,z) of the 100th element?"
   ]
  },
  {
   "cell_type": "code",
   "execution_count": 84,
   "metadata": {
    "colab": {
     "base_uri": "https://localhost:8080/"
    },
    "executionInfo": {
     "elapsed": 468,
     "status": "ok",
     "timestamp": 1720084807271,
     "user": {
      "displayName": "Aaditya Kumar",
      "userId": "02834763275534680952"
     },
     "user_tz": -330
    },
    "id": "o4f8VR0jaSjU",
    "outputId": "f9cf9df6-f1bb-4513-d6c8-44674ac8f1cd"
   },
   "outputs": [
    {
     "name": "stdout",
     "output_type": "stream",
     "text": [
      "(1, 5, 3)\n"
     ]
    }
   ],
   "source": [
    "print(np.unravel_index(99,(6,7,8)))"
   ]
  }
 ],
 "metadata": {
  "colab": {
   "provenance": [
    {
     "file_id": "1rzTxW7OwtDDd1UyU2OptUu6wwF0iqoi-",
     "timestamp": 1720074393555
    }
   ]
  },
  "kernelspec": {
   "display_name": "Python 3 (ipykernel)",
   "language": "python",
   "name": "python3"
  },
  "language_info": {
   "codemirror_mode": {
    "name": "ipython",
    "version": 3
   },
   "file_extension": ".py",
   "mimetype": "text/x-python",
   "name": "python",
   "nbconvert_exporter": "python",
   "pygments_lexer": "ipython3",
   "version": "3.11.7"
  }
 },
 "nbformat": 4,
 "nbformat_minor": 4
}
