{
 "cells": [
  {
   "cell_type": "markdown",
   "metadata": {},
   "source": [
    "# <center>Introduction to Pandas</center>\n",
    "\n",
    "![](https://pandas.pydata.org/_static/pandas_logo.png)\n",
    "\n",
    "\n",
    "## Installation\n",
    "\n",
    "Simply,\n",
    "```\n",
    "pip install pandas\n",
    "```\n",
    "\n",
    "\n",
    "## Reading data from a CSV file\n",
    "\n",
    "You can read data from a CSV file using the ``read_csv`` function. By default, it assumes that the fields are comma-separated."
   ]
  },
  {
   "cell_type": "code",
   "execution_count": 2,
   "metadata": {},
   "outputs": [],
   "source": [
    "# import pandas\n",
    "import pandas as pd"
   ]
  },
  {
   "cell_type": "markdown",
   "metadata": {},
   "source": [
    ">The `imdb.csv` dataset contains Highest Rated IMDb \"Top 1000\" Titles."
   ]
  },
  {
   "cell_type": "code",
   "execution_count": 4,
   "metadata": {},
   "outputs": [],
   "source": [
    "# load imdb dataset as pandas dataframe\n",
    "df = pd.read_csv('imdb_1000.csv')"
   ]
  },
  {
   "cell_type": "code",
   "execution_count": 5,
   "metadata": {},
   "outputs": [
    {
     "name": "stdout",
     "output_type": "stream",
     "text": [
      "   star_rating                     title content_rating   genre  duration  \\\n",
      "0          9.3  The Shawshank Redemption              R   Crime       142   \n",
      "1          9.2             The Godfather              R   Crime       175   \n",
      "2          9.1    The Godfather: Part II              R   Crime       200   \n",
      "3          9.0           The Dark Knight          PG-13  Action       152   \n",
      "4          8.9              Pulp Fiction              R   Crime       154   \n",
      "\n",
      "                                         actors_list  \n",
      "0  [u'Tim Robbins', u'Morgan Freeman', u'Bob Gunt...  \n",
      "1    [u'Marlon Brando', u'Al Pacino', u'James Caan']  \n",
      "2  [u'Al Pacino', u'Robert De Niro', u'Robert Duv...  \n",
      "3  [u'Christian Bale', u'Heath Ledger', u'Aaron E...  \n",
      "4  [u'John Travolta', u'Uma Thurman', u'Samuel L....  \n"
     ]
    }
   ],
   "source": [
    "# show first 5 rows of imdb_df\n",
    "print(df.head(5))"
   ]
  },
  {
   "cell_type": "markdown",
   "metadata": {},
   "source": [
    ">The `bikes.csv` dataset contains information about the number of bicycles that used certain bicycle lanes in Montreal in the year 2012."
   ]
  },
  {
   "cell_type": "code",
   "execution_count": 7,
   "metadata": {},
   "outputs": [],
   "source": [
    "# load bikes dataset as pandas dataframe\n",
    "df_bike = pd.read_csv('bikes.csv')"
   ]
  },
  {
   "cell_type": "code",
   "execution_count": 8,
   "metadata": {},
   "outputs": [
    {
     "name": "stdout",
     "output_type": "stream",
     "text": [
      "  Date;;Rachel / Papineau;Berri1;Maisonneuve_2;Maisonneuve_1;Brébeuf;Parc;PierDup;CSC (Côte Sainte-Catherine);Pont_Jacques_Cartier\n",
      "0          01/01/2012;00:00;16;35;51;38;5;26;10;0;27                                                                              \n",
      "1         02/01/2012;00:00;43;83;153;68;11;53;6;1;21                                                                              \n",
      "2        03/01/2012;00:00;58;135;248;104;2;89;3;2;15                                                                              \n"
     ]
    }
   ],
   "source": [
    "# show first 3 rows of bikes_df\n",
    "print(df_bike.head(3))"
   ]
  },
  {
   "cell_type": "markdown",
   "metadata": {},
   "source": [
    "## Selecting columns\n",
    "\n",
    "When you read a CSV, you get a kind of object called a DataFrame, which is made up of rows and columns. You get columns out of a DataFrame the same way you get elements out of a dictionary."
   ]
  },
  {
   "cell_type": "code",
   "execution_count": 10,
   "metadata": {},
   "outputs": [
    {
     "name": "stdout",
     "output_type": "stream",
     "text": [
      "Index(['star_rating', 'title', 'content_rating', 'genre', 'duration',\n",
      "       'actors_list'],\n",
      "      dtype='object')\n"
     ]
    }
   ],
   "source": [
    "# list columns of imdb_df\n",
    "print(df.columns)"
   ]
  },
  {
   "cell_type": "code",
   "execution_count": 11,
   "metadata": {},
   "outputs": [
    {
     "name": "stdout",
     "output_type": "stream",
     "text": [
      "star_rating       float64\n",
      "title              object\n",
      "content_rating     object\n",
      "genre              object\n",
      "duration            int64\n",
      "actors_list        object\n",
      "dtype: object\n"
     ]
    }
   ],
   "source": [
    "# what are the datatypes of values in columns\n",
    "print(df.dtypes)"
   ]
  },
  {
   "cell_type": "code",
   "execution_count": 12,
   "metadata": {},
   "outputs": [
    {
     "name": "stdout",
     "output_type": "stream",
     "text": [
      "0    The Shawshank Redemption\n",
      "1               The Godfather\n",
      "2      The Godfather: Part II\n",
      "3             The Dark Knight\n",
      "4                Pulp Fiction\n",
      "Name: title, dtype: object\n"
     ]
    }
   ],
   "source": [
    "# list first 5 movie titles\n",
    "print(df['title'].head(5))"
   ]
  },
  {
   "cell_type": "code",
   "execution_count": 83,
   "metadata": {},
   "outputs": [
    {
     "name": "stdout",
     "output_type": "stream",
     "text": [
      "                                               title      genre\n",
      "0                           The Shawshank Redemption      Crime\n",
      "1                                      The Godfather      Crime\n",
      "2                             The Godfather: Part II      Crime\n",
      "3                                    The Dark Knight     Action\n",
      "4                                       Pulp Fiction      Crime\n",
      "..                                               ...        ...\n",
      "974                                          Tootsie     Comedy\n",
      "975                      Back to the Future Part III  Adventure\n",
      "976  Master and Commander: The Far Side of the World     Action\n",
      "977                                      Poltergeist     Horror\n",
      "978                                      Wall Street      Crime\n",
      "\n",
      "[979 rows x 2 columns]\n"
     ]
    }
   ],
   "source": [
    "# show only movie title and genre\n",
    "print(df[['title', 'genre']])"
   ]
  },
  {
   "cell_type": "markdown",
   "metadata": {},
   "source": [
    "## Understanding columns\n",
    "\n",
    "On the inside, the type of a column is ``pd.Series`` and pandas Series are internally numpy arrays. If you add ``.values`` to the end of any Series, you'll get its internal **numpy array**."
   ]
  },
  {
   "cell_type": "code",
   "execution_count": 85,
   "metadata": {},
   "outputs": [
    {
     "name": "stdout",
     "output_type": "stream",
     "text": [
      "int64\n"
     ]
    }
   ],
   "source": [
    "# show the type of duration column\n",
    "print(df['duration'].dtype)"
   ]
  },
  {
   "cell_type": "code",
   "execution_count": 91,
   "metadata": {},
   "outputs": [
    {
     "name": "stdout",
     "output_type": "stream",
     "text": [
      "[142 175 200 152 154  96 161 201 195 139 178 148 124 142 179 169 133 207\n",
      " 146 121 136 130 130 106 127 116 175 118 110  87 125 112 102 107 119  87\n",
      " 169 115 112 109 189 110 150 165 155 137 113 165  95 151 155 153 125 130\n",
      " 116  89 137 117  88 165 170  89 146  99  98 116 156 122 149 134 122 136\n",
      " 157 123 119 137 128 120 229 107 134 103 177 129 102 216 136  93  68 189\n",
      "  99 108 113 181 103 138 110 129  88 160 126  91 116 125 143  93 102 132\n",
      " 153 183 160 120 138 140 153 170 129  81 127 131 172 115 108 107 129 156\n",
      "  96  91  95 162 130  86 186 151  96 170 118 161 131 126 131 129 224 180\n",
      " 105 117 140 119 124 130 139 107 132 117 126 122 178 238 149 172  98 116\n",
      " 116 123 148 123 182  92  93 100 135 105  94 140  83  95  98 143  99  98\n",
      " 121 163 121 167 188 121 109 110 129 127  94 107 100 117 129 120 121 133\n",
      " 111 122 101 134 165 138 212 154  89 134  93 114  88 130 101 158  99 108\n",
      " 124 132 113 131 191 167 130 147 102  88 165 132 118 101 108 174  98  92\n",
      "  98 106  85 101 105 115 115 124 105 103 138 184 120  99 131 138  98 123\n",
      " 118 114 118 112 124 160  67 146 125 115 134 141 129 104  94 124 150 119\n",
      " 128 143  85 151 118 101  99  92 125 102 106 107  91  80 122 102 112  92\n",
      " 135 136 153 105 126  68  84 103 145  80 106 127 178 137 172  76 130  96\n",
      "  82 115  95 143 125 120 127 112 104 113 189 127 188  96 113 132 122 126\n",
      " 140 133 112 102  93 109  81 108 111 119  96 197 127 138  66 181 141 144\n",
      " 128  83 121  98 117  94 174 112 108  70  99  96 137 136 100  90  96 161\n",
      " 115 181 169  98 136 138 119 123 112 120 103  97 109 165 156 147 100 126\n",
      " 115 105 144 102 107 119  90 197  86 113 133  64 141 113 122 105 119 102\n",
      " 122 123 113  97 117 111  85  99 134  75 109 117  91 128 111 119 100 114\n",
      "  92 141 101 115 127  96 129 135 109 157 193  94 155 113 130 117 159 141\n",
      " 112 162 126 120 144 120 109  97 108 115 136  90 170 220 116 134 124  91\n",
      " 103  96 119  98 101  93 179 155 121 103 127 103 107 100  92  94 158  86\n",
      " 115 130 107 100 108 124 131 122 242 127 141 126  89 113 152 107  92 145\n",
      "  84 126 132  78 117 128 100 128 100 143 107 100 125 106 157  94 104  94\n",
      " 153 123 120 105 166 112  94 111  87  80 108 102 105 136 101 100 108 101\n",
      " 106 105  88 129 138 129 118 139 123 150 132  80 178  79 163 114 144 130\n",
      " 154  81  95 101 120  93 115 106 120 110 123 142  99 112 120 122 130 139\n",
      " 129 141 127 130 118 110 115 101 112 108 143 152 117 121 119 114 122 105\n",
      " 110 116 139 121 109 146 113 100 121 113 113 117  93 101  90 131  98  93\n",
      " 121  82 124 100 117  99 116 123 114 133 105 127 144  90 118 122 102 187\n",
      "  87 154  89  88 129  95 118  98 194 114  80 130 135 101 105 129 134 143\n",
      " 202  89 106  92 137 124 122 113 112 110 135  88 146 104 125 131  91 142\n",
      " 129 158 102  99 101 104 119 103  88 100 146 150 140 140 110  97 102 152\n",
      " 100  94  85 104 112 191 119 111  94 103 134 157 158 127 101 109  98 134\n",
      " 168  93 145 111  88 123 121 144 116 124 147 106 113 129  94 126 128 111\n",
      " 146  85 105 132 130 162 113 110 113 162 110  78  92  95 138 102 128  96\n",
      " 164 126 110 109 122 124 128 157 120 102 152 170 102 116 164  85 104  99\n",
      "  81 131 101 121  69  92  94 141 116  98 135 121 108 114 102 112 140 157\n",
      " 128 108 139  83 131 113 136  96 118 108  83 205 124 111 137 104 109 115\n",
      "  99 114 133 131 131 123 126  97 126  89 122 121 125 105 118  81 115 126\n",
      " 113 107 126 111  85 120  93 100 107 126 131 116 143  93  96 160 137 119\n",
      " 114  98 111 138 144 107 114 125 146 113  85  97  93 113 128 114 147 127\n",
      " 167 124 109 124 102 130 125  98 154  97 128  98 101 147 172 125  88 125\n",
      " 121 112 120 133 110 135 110  80 135 101 112 124 129 104  96 105 109 117\n",
      "  78 138 106  90 106  91 112 134 112 104 101 120 123 133 110 129 120  83\n",
      "  88  96 139 113  84 106 170 144 104 153  85 130  93 148 115 102 125 106\n",
      " 121 143 116  99 116 128 119 104 114 152 129 103 112  92 141 106 109 104\n",
      " 122 111 112 116 130 133 134  92 104 110  97 100 118 112 138  92 118 140\n",
      " 128 101  75  97 111 175  94  97 132 120 107  89  86 103 108 105 117 102\n",
      " 104 157 104  98 109  96 103 114  99 118 150 105  87 136 162 109 107  90\n",
      " 112 126 116 118 138 114 126]\n"
     ]
    }
   ],
   "source": [
    "# show duration values of movies as numpy arrays\n",
    "duration_array = df['duration'].to_numpy()\n",
    "print(duration_array)"
   ]
  },
  {
   "cell_type": "markdown",
   "metadata": {},
   "source": [
    "## Applying functions to columns\n",
    "\n",
    "Use `.apply` function to apply any function to each element of a column."
   ]
  },
  {
   "cell_type": "code",
   "execution_count": 99,
   "metadata": {},
   "outputs": [
    {
     "name": "stdout",
     "output_type": "stream",
     "text": [
      "     star_rating                                            title  \\\n",
      "0            9.3                         THE SHAWSHANK REDEMPTION   \n",
      "1            9.2                                    THE GODFATHER   \n",
      "2            9.1                           THE GODFATHER: PART II   \n",
      "3            9.0                                  THE DARK KNIGHT   \n",
      "4            8.9                                     PULP FICTION   \n",
      "..           ...                                              ...   \n",
      "974          7.4                                          TOOTSIE   \n",
      "975          7.4                      BACK TO THE FUTURE PART III   \n",
      "976          7.4  MASTER AND COMMANDER: THE FAR SIDE OF THE WORLD   \n",
      "977          7.4                                      POLTERGEIST   \n",
      "978          7.4                                      WALL STREET   \n",
      "\n",
      "    content_rating      genre  duration  \\\n",
      "0                R      Crime       142   \n",
      "1                R      Crime       175   \n",
      "2                R      Crime       200   \n",
      "3            PG-13     Action       152   \n",
      "4                R      Crime       154   \n",
      "..             ...        ...       ...   \n",
      "974             PG     Comedy       116   \n",
      "975             PG  Adventure       118   \n",
      "976          PG-13     Action       138   \n",
      "977             PG     Horror       114   \n",
      "978              R      Crime       126   \n",
      "\n",
      "                                           actors_list  \\\n",
      "0    [u'Tim Robbins', u'Morgan Freeman', u'Bob Gunt...   \n",
      "1      [u'Marlon Brando', u'Al Pacino', u'James Caan']   \n",
      "2    [u'Al Pacino', u'Robert De Niro', u'Robert Duv...   \n",
      "3    [u'Christian Bale', u'Heath Ledger', u'Aaron E...   \n",
      "4    [u'John Travolta', u'Uma Thurman', u'Samuel L....   \n",
      "..                                                 ...   \n",
      "974  [u'Dustin Hoffman', u'Jessica Lange', u'Teri G...   \n",
      "975  [u'Michael J. Fox', u'Christopher Lloyd', u'Ma...   \n",
      "976  [u'Russell Crowe', u'Paul Bettany', u'Billy Bo...   \n",
      "977  [u'JoBeth Williams', u\"Heather O'Rourke\", u'Cr...   \n",
      "978  [u'Charlie Sheen', u'Michael Douglas', u'Tamar...   \n",
      "\n",
      "                                     title_Uppercase  \n",
      "0                           THE SHAWSHANK REDEMPTION  \n",
      "1                                      THE GODFATHER  \n",
      "2                             THE GODFATHER: PART II  \n",
      "3                                    THE DARK KNIGHT  \n",
      "4                                       PULP FICTION  \n",
      "..                                               ...  \n",
      "974                                          TOOTSIE  \n",
      "975                      BACK TO THE FUTURE PART III  \n",
      "976  MASTER AND COMMANDER: THE FAR SIDE OF THE WORLD  \n",
      "977                                      POLTERGEIST  \n",
      "978                                      WALL STREET  \n",
      "\n",
      "[979 rows x 7 columns]\n"
     ]
    }
   ],
   "source": [
    "# convert all the movie titles to uppercase\n",
    "df['title'] = df['title'].apply(lambda x: x.upper())\n",
    "print(df)"
   ]
  },
  {
   "cell_type": "markdown",
   "metadata": {},
   "source": [
    "## Plotting a column\n",
    "\n",
    "Use ``.plot()`` function!"
   ]
  },
  {
   "cell_type": "code",
   "execution_count": 117,
   "metadata": {},
   "outputs": [
    {
     "ename": "KeyError",
     "evalue": "'The grouper name Date is not found'",
     "output_type": "error",
     "traceback": [
      "\u001b[1;31m---------------------------------------------------------------------------\u001b[0m",
      "\u001b[1;31mKeyError\u001b[0m                                  Traceback (most recent call last)",
      "Cell \u001b[1;32mIn[117], line 4\u001b[0m\n\u001b[0;32m      2\u001b[0m \u001b[38;5;28;01mimport\u001b[39;00m \u001b[38;5;21;01mmatplotlib\u001b[39;00m \u001b[38;5;28;01mas\u001b[39;00m \u001b[38;5;21;01mplt\u001b[39;00m\n\u001b[0;32m      3\u001b[0m df_bike \u001b[38;5;241m=\u001b[39m pd\u001b[38;5;241m.\u001b[39mread_csv(\u001b[38;5;124m'\u001b[39m\u001b[38;5;124mbikes.csv\u001b[39m\u001b[38;5;124m'\u001b[39m)\n\u001b[1;32m----> 4\u001b[0m bikers \u001b[38;5;241m=\u001b[39m df_bike\u001b[38;5;241m.\u001b[39mresample(\u001b[38;5;124m'\u001b[39m\u001b[38;5;124mY\u001b[39m\u001b[38;5;124m'\u001b[39m, on \u001b[38;5;241m=\u001b[39m \u001b[38;5;124m'\u001b[39m\u001b[38;5;124mDate\u001b[39m\u001b[38;5;124m'\u001b[39m)[\u001b[38;5;124m'\u001b[39m\u001b[38;5;124mBerri1\u001b[39m\u001b[38;5;124m'\u001b[39m]\u001b[38;5;241m.\u001b[39msum()\n\u001b[0;32m      5\u001b[0m bikers\u001b[38;5;241m.\u001b[39mplot(kind\u001b[38;5;241m=\u001b[39m\u001b[38;5;124m'\u001b[39m\u001b[38;5;124mline\u001b[39m\u001b[38;5;124m'\u001b[39m, figsize\u001b[38;5;241m=\u001b[39m(\u001b[38;5;241m10\u001b[39m, \u001b[38;5;241m6\u001b[39m))  \u001b[38;5;66;03m# Adjust figure size as needed\u001b[39;00m\n\u001b[0;32m      6\u001b[0m plt\u001b[38;5;241m.\u001b[39mtitle(\u001b[38;5;124m'\u001b[39m\u001b[38;5;124mBikers Traveling to Berri1 Over the Year\u001b[39m\u001b[38;5;124m'\u001b[39m)\n",
      "File \u001b[1;32m~\\anaconda3\\Lib\\site-packages\\pandas\\core\\generic.py:9439\u001b[0m, in \u001b[0;36mNDFrame.resample\u001b[1;34m(self, rule, axis, closed, label, convention, kind, on, level, origin, offset, group_keys)\u001b[0m\n\u001b[0;32m   9436\u001b[0m \u001b[38;5;28;01melse\u001b[39;00m:\n\u001b[0;32m   9437\u001b[0m     axis \u001b[38;5;241m=\u001b[39m \u001b[38;5;241m0\u001b[39m\n\u001b[1;32m-> 9439\u001b[0m \u001b[38;5;28;01mreturn\u001b[39;00m get_resampler(\n\u001b[0;32m   9440\u001b[0m     cast(\u001b[38;5;124m\"\u001b[39m\u001b[38;5;124mSeries | DataFrame\u001b[39m\u001b[38;5;124m\"\u001b[39m, \u001b[38;5;28mself\u001b[39m),\n\u001b[0;32m   9441\u001b[0m     freq\u001b[38;5;241m=\u001b[39mrule,\n\u001b[0;32m   9442\u001b[0m     label\u001b[38;5;241m=\u001b[39mlabel,\n\u001b[0;32m   9443\u001b[0m     closed\u001b[38;5;241m=\u001b[39mclosed,\n\u001b[0;32m   9444\u001b[0m     axis\u001b[38;5;241m=\u001b[39maxis,\n\u001b[0;32m   9445\u001b[0m     kind\u001b[38;5;241m=\u001b[39mkind,\n\u001b[0;32m   9446\u001b[0m     convention\u001b[38;5;241m=\u001b[39mconvention,\n\u001b[0;32m   9447\u001b[0m     key\u001b[38;5;241m=\u001b[39mon,\n\u001b[0;32m   9448\u001b[0m     level\u001b[38;5;241m=\u001b[39mlevel,\n\u001b[0;32m   9449\u001b[0m     origin\u001b[38;5;241m=\u001b[39morigin,\n\u001b[0;32m   9450\u001b[0m     offset\u001b[38;5;241m=\u001b[39moffset,\n\u001b[0;32m   9451\u001b[0m     group_keys\u001b[38;5;241m=\u001b[39mgroup_keys,\n\u001b[0;32m   9452\u001b[0m )\n",
      "File \u001b[1;32m~\\anaconda3\\Lib\\site-packages\\pandas\\core\\resample.py:1970\u001b[0m, in \u001b[0;36mget_resampler\u001b[1;34m(obj, kind, **kwds)\u001b[0m\n\u001b[0;32m   1966\u001b[0m \u001b[38;5;250m\u001b[39m\u001b[38;5;124;03m\"\"\"\u001b[39;00m\n\u001b[0;32m   1967\u001b[0m \u001b[38;5;124;03mCreate a TimeGrouper and return our resampler.\u001b[39;00m\n\u001b[0;32m   1968\u001b[0m \u001b[38;5;124;03m\"\"\"\u001b[39;00m\n\u001b[0;32m   1969\u001b[0m tg \u001b[38;5;241m=\u001b[39m TimeGrouper(\u001b[38;5;241m*\u001b[39m\u001b[38;5;241m*\u001b[39mkwds)\n\u001b[1;32m-> 1970\u001b[0m \u001b[38;5;28;01mreturn\u001b[39;00m tg\u001b[38;5;241m.\u001b[39m_get_resampler(obj, kind\u001b[38;5;241m=\u001b[39mkind)\n",
      "File \u001b[1;32m~\\anaconda3\\Lib\\site-packages\\pandas\\core\\resample.py:2131\u001b[0m, in \u001b[0;36mTimeGrouper._get_resampler\u001b[1;34m(self, obj, kind)\u001b[0m\n\u001b[0;32m   2112\u001b[0m \u001b[38;5;28;01mdef\u001b[39;00m \u001b[38;5;21m_get_resampler\u001b[39m(\u001b[38;5;28mself\u001b[39m, obj: NDFrame, kind\u001b[38;5;241m=\u001b[39m\u001b[38;5;28;01mNone\u001b[39;00m) \u001b[38;5;241m-\u001b[39m\u001b[38;5;241m>\u001b[39m Resampler:\n\u001b[0;32m   2113\u001b[0m \u001b[38;5;250m    \u001b[39m\u001b[38;5;124;03m\"\"\"\u001b[39;00m\n\u001b[0;32m   2114\u001b[0m \u001b[38;5;124;03m    Return my resampler or raise if we have an invalid axis.\u001b[39;00m\n\u001b[0;32m   2115\u001b[0m \n\u001b[1;32m   (...)\u001b[0m\n\u001b[0;32m   2129\u001b[0m \n\u001b[0;32m   2130\u001b[0m \u001b[38;5;124;03m    \"\"\"\u001b[39;00m\n\u001b[1;32m-> 2131\u001b[0m     _, ax, indexer \u001b[38;5;241m=\u001b[39m \u001b[38;5;28mself\u001b[39m\u001b[38;5;241m.\u001b[39m_set_grouper(obj, gpr_index\u001b[38;5;241m=\u001b[39m\u001b[38;5;28;01mNone\u001b[39;00m)\n\u001b[0;32m   2133\u001b[0m     \u001b[38;5;28;01mif\u001b[39;00m \u001b[38;5;28misinstance\u001b[39m(ax, DatetimeIndex):\n\u001b[0;32m   2134\u001b[0m         \u001b[38;5;28;01mreturn\u001b[39;00m DatetimeIndexResampler(\n\u001b[0;32m   2135\u001b[0m             obj,\n\u001b[0;32m   2136\u001b[0m             timegrouper\u001b[38;5;241m=\u001b[39m\u001b[38;5;28mself\u001b[39m,\n\u001b[1;32m   (...)\u001b[0m\n\u001b[0;32m   2140\u001b[0m             gpr_index\u001b[38;5;241m=\u001b[39max,\n\u001b[0;32m   2141\u001b[0m         )\n",
      "File \u001b[1;32m~\\anaconda3\\Lib\\site-packages\\pandas\\core\\groupby\\grouper.py:382\u001b[0m, in \u001b[0;36mGrouper._set_grouper\u001b[1;34m(self, obj, sort, gpr_index)\u001b[0m\n\u001b[0;32m    380\u001b[0m     \u001b[38;5;28;01melse\u001b[39;00m:\n\u001b[0;32m    381\u001b[0m         \u001b[38;5;28;01mif\u001b[39;00m key \u001b[38;5;129;01mnot\u001b[39;00m \u001b[38;5;129;01min\u001b[39;00m obj\u001b[38;5;241m.\u001b[39m_info_axis:\n\u001b[1;32m--> 382\u001b[0m             \u001b[38;5;28;01mraise\u001b[39;00m \u001b[38;5;167;01mKeyError\u001b[39;00m(\u001b[38;5;124mf\u001b[39m\u001b[38;5;124m\"\u001b[39m\u001b[38;5;124mThe grouper name \u001b[39m\u001b[38;5;132;01m{\u001b[39;00mkey\u001b[38;5;132;01m}\u001b[39;00m\u001b[38;5;124m is not found\u001b[39m\u001b[38;5;124m\"\u001b[39m)\n\u001b[0;32m    383\u001b[0m         ax \u001b[38;5;241m=\u001b[39m Index(obj[key], name\u001b[38;5;241m=\u001b[39mkey)\n\u001b[0;32m    385\u001b[0m \u001b[38;5;28;01melse\u001b[39;00m:\n",
      "\u001b[1;31mKeyError\u001b[0m: 'The grouper name Date is not found'"
     ]
    }
   ],
   "source": [
    "# plot the bikers travelling to Berri1 over the year\n",
    "import matplotlib as plt\n",
    "df_bike = pd.read_csv('bikes.csv')\n",
    "bikers = df_bike.resample('Y', on = 'Date')['Berri1'].sum()\n",
    "bikers.plot(kind='line', figsize=(10, 6))\n",
    "plt.title('Bikers Traveling to Berri1 Over the Year')\n",
    "plt.xlabel('Year')\n",
    "plt.ylabel('Number of Bikers')\n",
    "plt.grid(True)\n",
    "plt.show()"
   ]
  },
  {
   "cell_type": "code",
   "execution_count": 21,
   "metadata": {},
   "outputs": [],
   "source": [
    "# plot all the columns of bikes_df\n"
   ]
  },
  {
   "cell_type": "markdown",
   "metadata": {},
   "source": [
    "## Value counts\n",
    "\n",
    "Get count of unique values in a particular column/Series."
   ]
  },
  {
   "cell_type": "code",
   "execution_count": 163,
   "metadata": {},
   "outputs": [
    {
     "name": "stdout",
     "output_type": "stream",
     "text": [
      "16\n"
     ]
    }
   ],
   "source": [
    "# what are the unique genre in imdb_df?\n",
    "unique_genres = df['genre'].nunique()\n",
    "print(unique_genres)"
   ]
  },
  {
   "cell_type": "code",
   "execution_count": 171,
   "metadata": {},
   "outputs": [
    {
     "data": {
      "image/png": "[encoded data removed]",
      "text/plain": [
       "<Figure size 1000x600 with 1 Axes>"
      ]
     },
     "metadata": {},
     "output_type": "display_data"
    }
   ],
   "source": [
    "# plotting value counts of unique genres as a bar chart\n",
    "import matplotlib.pyplot as plt\n",
    "genre_counts = df['genre'].value_counts()\n",
    "plt.figure(figsize=(10, 6))\n",
    "genre_counts.plot(kind='bar', color='skyblue')\n",
    "plt.title(\"Distribution of Genres in Movies\")\n",
    "plt.xlabel(\"Genre\")\n",
    "plt.ylabel(\"Number of Movies\")\n",
    "plt.xticks(rotation=45, ha='right')\n",
    "plt.tight_layout()\n",
    "plt.show()"
   ]
  },
  {
   "cell_type": "code",
   "execution_count": 173,
   "metadata": {},
   "outputs": [
    {
     "data": {
      "image/png": "[encoded data removed]",
      "text/plain": [
       "<Figure size 800x800 with 1 Axes>"
      ]
     },
     "metadata": {},
     "output_type": "display_data"
    }
   ],
   "source": [
    "# plotting value counts of unique genres as a pie chart\n",
    "genre_counts = df['genre'].value_counts()\n",
    "\n",
    "plt.figure(figsize=(8, 8))\n",
    "plt.pie(genre_counts, labels=genre_counts.index, autopct=\"%1.1f%%\", startangle=140)\n",
    "plt.title(\"Distribution of Genres in Movies\")\n",
    "plt.axis('equal')\n",
    "plt.tight_layout()\n",
    "plt.show()"
   ]
  },
  {
   "cell_type": "markdown",
   "metadata": {},
   "source": [
    "## Index\n",
    "\n",
    "### DATAFRAME = COLUMNS + INDEX + ND DATA\n",
    "\n",
    "### SERIES = INDEX + 1-D DATA\n",
    "\n",
    "**Index** or (**row labels**) is one of the fundamental data structure of pandas. It can be thought of as an **immutable array** and an **ordered set**.\n",
    "\n",
    "> Every row is uniquely identified by its index value."
   ]
  },
  {
   "cell_type": "code",
   "execution_count": 27,
   "metadata": {},
   "outputs": [],
   "source": [
    "# show index of bikes_df"
   ]
  },
  {
   "cell_type": "code",
   "execution_count": 28,
   "metadata": {},
   "outputs": [],
   "source": [
    "# get row for date 2012-01-01"
   ]
  },
  {
   "cell_type": "markdown",
   "metadata": {},
   "source": [
    "#### To get row by integer index:\n",
    "\n",
    "Use ``.iloc[]`` for purely integer-location based indexing for selection by position."
   ]
  },
  {
   "cell_type": "code",
   "execution_count": 161,
   "metadata": {},
   "outputs": [
    {
     "name": "stdout",
     "output_type": "stream",
     "text": [
      "star_rating                                                      8.8\n",
      "title              THE LORD OF THE RINGS: THE FELLOWSHIP OF THE RING\n",
      "content_rating                                                 PG-13\n",
      "genre                                                      Adventure\n",
      "duration                                                      134.84\n",
      "actors_list        [u'Elijah Wood', u'Ian McKellen', u'Orlando Bl...\n",
      "title_Uppercase    THE LORD OF THE RINGS: THE FELLOWSHIP OF THE RING\n",
      "Name: 10, dtype: object\n"
     ]
    }
   ],
   "source": [
    "# show 11th row of imdb_df using iloc\n",
    "eleventh_row = df.iloc[10]\n",
    "print(eleventh_row)"
   ]
  },
  {
   "cell_type": "markdown",
   "metadata": {},
   "source": [
    "## Selecting rows where column has a particular value"
   ]
  },
  {
   "cell_type": "code",
   "execution_count": 147,
   "metadata": {},
   "outputs": [
    {
     "name": "stdout",
     "output_type": "stream",
     "text": [
      "     star_rating                                              title  \\\n",
      "7            8.9      THE LORD OF THE RINGS: THE RETURN OF THE KING   \n",
      "10           8.8  THE LORD OF THE RINGS: THE FELLOWSHIP OF THE RING   \n",
      "14           8.8              THE LORD OF THE RINGS: THE TWO TOWERS   \n",
      "15           8.7                                       INTERSTELLAR   \n",
      "54           8.5                                 BACK TO THE FUTURE   \n",
      "..           ...                                                ...   \n",
      "936          7.4                                          TRUE GRIT   \n",
      "937          7.4                                          LABYRINTH   \n",
      "943          7.4                                    THE BUCKET LIST   \n",
      "953          7.4                              THE NEVERENDING STORY   \n",
      "975          7.4                        BACK TO THE FUTURE PART III   \n",
      "\n",
      "    content_rating      genre  duration  \\\n",
      "7            PG-13  Adventure    134.84   \n",
      "10           PG-13  Adventure    134.84   \n",
      "14           PG-13  Adventure    134.84   \n",
      "15           PG-13  Adventure    134.84   \n",
      "54              PG  Adventure    134.84   \n",
      "..             ...        ...       ...   \n",
      "936            NaN  Adventure    134.84   \n",
      "937             PG  Adventure    134.84   \n",
      "943          PG-13  Adventure    134.84   \n",
      "953             PG  Adventure    134.84   \n",
      "975             PG  Adventure    134.84   \n",
      "\n",
      "                                           actors_list  \\\n",
      "7    [u'Elijah Wood', u'Viggo Mortensen', u'Ian McK...   \n",
      "10   [u'Elijah Wood', u'Ian McKellen', u'Orlando Bl...   \n",
      "14   [u'Elijah Wood', u'Ian McKellen', u'Viggo Mort...   \n",
      "15   [u'Matthew McConaughey', u'Anne Hathaway', u'J...   \n",
      "54   [u'Michael J. Fox', u'Christopher Lloyd', u'Le...   \n",
      "..                                                 ...   \n",
      "936    [u'John Wayne', u'Kim Darby', u'Glen Campbell']   \n",
      "937  [u'David Bowie', u'Jennifer Connelly', u'Toby ...   \n",
      "943  [u'Jack Nicholson', u'Morgan Freeman', u'Sean ...   \n",
      "953  [u'Noah Hathaway', u'Barret Oliver', u'Tami St...   \n",
      "975  [u'Michael J. Fox', u'Christopher Lloyd', u'Ma...   \n",
      "\n",
      "                                       title_Uppercase  \n",
      "7        THE LORD OF THE RINGS: THE RETURN OF THE KING  \n",
      "10   THE LORD OF THE RINGS: THE FELLOWSHIP OF THE RING  \n",
      "14               THE LORD OF THE RINGS: THE TWO TOWERS  \n",
      "15                                        INTERSTELLAR  \n",
      "54                                  BACK TO THE FUTURE  \n",
      "..                                                 ...  \n",
      "936                                          TRUE GRIT  \n",
      "937                                          LABYRINTH  \n",
      "943                                    THE BUCKET LIST  \n",
      "953                              THE NEVERENDING STORY  \n",
      "975                        BACK TO THE FUTURE PART III  \n",
      "\n",
      "[75 rows x 7 columns]\n"
     ]
    }
   ],
   "source": [
    "# select only those movies where genre is adventure\n",
    "adv_movie = df[df['genre'] == 'Adventure']\n",
    "print(adv_movie)"
   ]
  },
  {
   "cell_type": "code",
   "execution_count": 157,
   "metadata": {},
   "outputs": [
    {
     "name": "stdout",
     "output_type": "stream",
     "text": [
      "Adventure\n"
     ]
    }
   ],
   "source": [
    "# which genre has highest number of movies with star rating above 8 and duration more than 130 minutes?\n",
    "filtered_df = df[(df['star_rating'] > 8) & (df['duration'] > 130)]\n",
    "genre_movies_count = filtered_df.groupby('genre').size()\n",
    "higest_count = genre_movies_count.idxmax()\n",
    "print(higest_count)"
   ]
  },
  {
   "cell_type": "markdown",
   "metadata": {},
   "source": [
    "## Adding a new column to DataFrame"
   ]
  },
  {
   "cell_type": "code",
   "execution_count": 35,
   "metadata": {},
   "outputs": [],
   "source": [
    "# add a weekday column to bikes_df"
   ]
  },
  {
   "cell_type": "markdown",
   "metadata": {},
   "source": [
    "## Deleting an existing column from DataFrame"
   ]
  },
  {
   "cell_type": "code",
   "execution_count": 37,
   "metadata": {},
   "outputs": [],
   "source": [
    "# remove column 'Unnamed: 1' from bikes_df"
   ]
  },
  {
   "cell_type": "markdown",
   "metadata": {},
   "source": [
    "## Deleting a row in DataFrame"
   ]
  },
  {
   "cell_type": "code",
   "execution_count": 39,
   "metadata": {},
   "outputs": [],
   "source": [
    "# remove row no. 1 from bikes_df"
   ]
  },
  {
   "cell_type": "markdown",
   "metadata": {},
   "source": [
    "## Group By\n",
    "\n",
    "Any groupby operation involves one of the following operations on the original object. They are −\n",
    "\n",
    "- Splitting the Object\n",
    "\n",
    "- Applying a function\n",
    "\n",
    "- Combining the results\n",
    "\n",
    "In many situations, we split the data into sets and we apply some functionality on each subset. In the apply functionality, we can perform the following operations −\n",
    "\n",
    "- **Aggregation** − computing a summary statistic\n",
    "\n",
    "- **Transformation** − perform some group-specific operation\n",
    "\n",
    "- **Filtration** − discarding the data with some condition"
   ]
  },
  {
   "cell_type": "code",
   "execution_count": 123,
   "metadata": {},
   "outputs": [
    {
     "name": "stdout",
     "output_type": "stream",
     "text": [
      "<pandas.core.groupby.generic.DataFrameGroupBy object at 0x000001E3DDCBDB90>\n"
     ]
    }
   ],
   "source": [
    "# group imdb_df by movie genres\n",
    "grouped = df.groupby('genre')\n",
    "print(grouped)"
   ]
  },
  {
   "cell_type": "code",
   "execution_count": 127,
   "metadata": {},
   "outputs": [
    {
     "name": "stdout",
     "output_type": "stream",
     "text": [
      "     star_rating                     title content_rating  genre  duration  \\\n",
      "0            9.3  THE SHAWSHANK REDEMPTION              R  Crime       142   \n",
      "1            9.2             THE GODFATHER              R  Crime       175   \n",
      "2            9.1    THE GODFATHER: PART II              R  Crime       200   \n",
      "4            8.9              PULP FICTION              R  Crime       154   \n",
      "21           8.7               CITY OF GOD              R  Crime       130   \n",
      "..           ...                       ...            ...    ...       ...   \n",
      "927          7.5                     BRICK              R  Crime       110   \n",
      "931          7.4              MEAN STREETS              R  Crime       112   \n",
      "950          7.4                     BOUND              R  Crime       108   \n",
      "969          7.4       LAW ABIDING CITIZEN              R  Crime       109   \n",
      "978          7.4               WALL STREET              R  Crime       126   \n",
      "\n",
      "                                           actors_list  \\\n",
      "0    [u'Tim Robbins', u'Morgan Freeman', u'Bob Gunt...   \n",
      "1      [u'Marlon Brando', u'Al Pacino', u'James Caan']   \n",
      "2    [u'Al Pacino', u'Robert De Niro', u'Robert Duv...   \n",
      "4    [u'John Travolta', u'Uma Thurman', u'Samuel L....   \n",
      "21   [u'Alexandre Rodrigues', u'Matheus Nachtergael...   \n",
      "..                                                 ...   \n",
      "927  [u'Joseph Gordon-Levitt', u'Lukas Haas', u'Emi...   \n",
      "931  [u'Robert De Niro', u'Harvey Keitel', u'David ...   \n",
      "950  [u'Jennifer Tilly', u'Gina Gershon', u'Joe Pan...   \n",
      "969  [u'Gerard Butler', u'Jamie Foxx', u'Leslie Bibb']   \n",
      "978  [u'Charlie Sheen', u'Michael Douglas', u'Tamar...   \n",
      "\n",
      "              title_Uppercase  \n",
      "0    THE SHAWSHANK REDEMPTION  \n",
      "1               THE GODFATHER  \n",
      "2      THE GODFATHER: PART II  \n",
      "4                PULP FICTION  \n",
      "21                CITY OF GOD  \n",
      "..                        ...  \n",
      "927                     BRICK  \n",
      "931              MEAN STREETS  \n",
      "950                     BOUND  \n",
      "969       LAW ABIDING CITIZEN  \n",
      "978               WALL STREET  \n",
      "\n",
      "[124 rows x 7 columns]\n"
     ]
    }
   ],
   "source": [
    "# get crime movies group\n",
    "crime_m = df[df['genre'].str.contains('crime', case = False)]\n",
    "print(crime_m)"
   ]
  },
  {
   "cell_type": "code",
   "execution_count": 131,
   "metadata": {},
   "outputs": [
    {
     "name": "stdout",
     "output_type": "stream",
     "text": [
      "genre\n",
      "Action       126.485294\n",
      "Adventure    134.840000\n",
      "Animation     96.596774\n",
      "Biography    131.844156\n",
      "Comedy       107.602564\n",
      "Crime        122.298387\n",
      "Drama        126.539568\n",
      "Family       107.500000\n",
      "Fantasy      112.000000\n",
      "Film-Noir     97.333333\n",
      "History       66.000000\n",
      "Horror       102.517241\n",
      "Mystery      115.625000\n",
      "Sci-Fi       109.000000\n",
      "Thriller     114.200000\n",
      "Western      136.666667\n",
      "Name: duration, dtype: float64\n"
     ]
    }
   ],
   "source": [
    "# get mean of movie durations for each group\n",
    "mean_d = df.groupby('genre')['duration'].mean()\n",
    "print(mean_d)"
   ]
  },
  {
   "cell_type": "code",
   "execution_count": 135,
   "metadata": {},
   "outputs": [
    {
     "name": "stdout",
     "output_type": "stream",
     "text": [
      "     star_rating                                            title  \\\n",
      "0            9.3                         THE SHAWSHANK REDEMPTION   \n",
      "1            9.2                                    THE GODFATHER   \n",
      "2            9.1                           THE GODFATHER: PART II   \n",
      "3            9.0                                  THE DARK KNIGHT   \n",
      "4            8.9                                     PULP FICTION   \n",
      "..           ...                                              ...   \n",
      "974          7.4                                          TOOTSIE   \n",
      "975          7.4                      BACK TO THE FUTURE PART III   \n",
      "976          7.4  MASTER AND COMMANDER: THE FAR SIDE OF THE WORLD   \n",
      "977          7.4                                      POLTERGEIST   \n",
      "978          7.4                                      WALL STREET   \n",
      "\n",
      "    content_rating      genre    duration  \\\n",
      "0                R      Crime  122.298387   \n",
      "1                R      Crime  122.298387   \n",
      "2                R      Crime  122.298387   \n",
      "3            PG-13     Action  126.485294   \n",
      "4                R      Crime  122.298387   \n",
      "..             ...        ...         ...   \n",
      "974             PG     Comedy  107.602564   \n",
      "975             PG  Adventure  134.840000   \n",
      "976          PG-13     Action  126.485294   \n",
      "977             PG     Horror  102.517241   \n",
      "978              R      Crime  122.298387   \n",
      "\n",
      "                                           actors_list  \\\n",
      "0    [u'Tim Robbins', u'Morgan Freeman', u'Bob Gunt...   \n",
      "1      [u'Marlon Brando', u'Al Pacino', u'James Caan']   \n",
      "2    [u'Al Pacino', u'Robert De Niro', u'Robert Duv...   \n",
      "3    [u'Christian Bale', u'Heath Ledger', u'Aaron E...   \n",
      "4    [u'John Travolta', u'Uma Thurman', u'Samuel L....   \n",
      "..                                                 ...   \n",
      "974  [u'Dustin Hoffman', u'Jessica Lange', u'Teri G...   \n",
      "975  [u'Michael J. Fox', u'Christopher Lloyd', u'Ma...   \n",
      "976  [u'Russell Crowe', u'Paul Bettany', u'Billy Bo...   \n",
      "977  [u'JoBeth Williams', u\"Heather O'Rourke\", u'Cr...   \n",
      "978  [u'Charlie Sheen', u'Michael Douglas', u'Tamar...   \n",
      "\n",
      "                                     title_Uppercase  \n",
      "0                           THE SHAWSHANK REDEMPTION  \n",
      "1                                      THE GODFATHER  \n",
      "2                             THE GODFATHER: PART II  \n",
      "3                                    THE DARK KNIGHT  \n",
      "4                                       PULP FICTION  \n",
      "..                                               ...  \n",
      "974                                          TOOTSIE  \n",
      "975                      BACK TO THE FUTURE PART III  \n",
      "976  MASTER AND COMMANDER: THE FAR SIDE OF THE WORLD  \n",
      "977                                      POLTERGEIST  \n",
      "978                                      WALL STREET  \n",
      "\n",
      "[979 rows x 7 columns]\n"
     ]
    }
   ],
   "source": [
    "# change duration of all movies in a particular genre to mean duration of the group\n",
    "mean_duration = df.groupby('genre')['duration'].transform('mean')\n",
    "df['duration'] = mean_duration\n",
    "print(df)"
   ]
  },
  {
   "cell_type": "code",
   "execution_count": 141,
   "metadata": {},
   "outputs": [
    {
     "name": "stdout",
     "output_type": "stream",
     "text": [
      "     star_rating                                            title  \\\n",
      "0            9.3                         THE SHAWSHANK REDEMPTION   \n",
      "1            9.2                                    THE GODFATHER   \n",
      "2            9.1                           THE GODFATHER: PART II   \n",
      "3            9.0                                  THE DARK KNIGHT   \n",
      "4            8.9                                     PULP FICTION   \n",
      "..           ...                                              ...   \n",
      "972          7.4                                   BLUE VALENTINE   \n",
      "973          7.4                            THE CIDER HOUSE RULES   \n",
      "975          7.4                      BACK TO THE FUTURE PART III   \n",
      "976          7.4  MASTER AND COMMANDER: THE FAR SIDE OF THE WORLD   \n",
      "978          7.4                                      WALL STREET   \n",
      "\n",
      "    content_rating      genre    duration  \\\n",
      "0                R      Crime  122.298387   \n",
      "1                R      Crime  122.298387   \n",
      "2                R      Crime  122.298387   \n",
      "3            PG-13     Action  126.485294   \n",
      "4                R      Crime  122.298387   \n",
      "..             ...        ...         ...   \n",
      "972          NC-17      Drama  126.539568   \n",
      "973          PG-13      Drama  126.539568   \n",
      "975             PG  Adventure  134.840000   \n",
      "976          PG-13     Action  126.485294   \n",
      "978              R      Crime  122.298387   \n",
      "\n",
      "                                           actors_list  \\\n",
      "0    [u'Tim Robbins', u'Morgan Freeman', u'Bob Gunt...   \n",
      "1      [u'Marlon Brando', u'Al Pacino', u'James Caan']   \n",
      "2    [u'Al Pacino', u'Robert De Niro', u'Robert Duv...   \n",
      "3    [u'Christian Bale', u'Heath Ledger', u'Aaron E...   \n",
      "4    [u'John Travolta', u'Uma Thurman', u'Samuel L....   \n",
      "..                                                 ...   \n",
      "972  [u'Ryan Gosling', u'Michelle Williams', u'John...   \n",
      "973  [u'Tobey Maguire', u'Charlize Theron', u'Micha...   \n",
      "975  [u'Michael J. Fox', u'Christopher Lloyd', u'Ma...   \n",
      "976  [u'Russell Crowe', u'Paul Bettany', u'Billy Bo...   \n",
      "978  [u'Charlie Sheen', u'Michael Douglas', u'Tamar...   \n",
      "\n",
      "                                     title_Uppercase  \n",
      "0                           THE SHAWSHANK REDEMPTION  \n",
      "1                                      THE GODFATHER  \n",
      "2                             THE GODFATHER: PART II  \n",
      "3                                    THE DARK KNIGHT  \n",
      "4                                       PULP FICTION  \n",
      "..                                               ...  \n",
      "972                                   BLUE VALENTINE  \n",
      "973                            THE CIDER HOUSE RULES  \n",
      "975                      BACK TO THE FUTURE PART III  \n",
      "976  MASTER AND COMMANDER: THE FAR SIDE OF THE WORLD  \n",
      "978                                      WALL STREET  \n",
      "\n",
      "[699 rows x 7 columns]\n"
     ]
    }
   ],
   "source": [
    "# drop groups/genres that do not have average movie duration greater than 120.\n",
    "rem = df.groupby('genre').filter(lambda x: x['duration'].mean() > 120)\n",
    "print(rem)"
   ]
  },
  {
   "cell_type": "code",
   "execution_count": 46,
   "metadata": {},
   "outputs": [],
   "source": [
    "# group weekday wise bikers count\n",
    "df_bike()"
   ]
  },
  {
   "cell_type": "code",
   "execution_count": 47,
   "metadata": {},
   "outputs": [],
   "source": [
    "# get weekday wise biker count"
   ]
  },
  {
   "cell_type": "code",
   "execution_count": 48,
   "metadata": {},
   "outputs": [],
   "source": [
    "# plot weekday wise biker count for 'Berri1'"
   ]
  },
  {
   "cell_type": "markdown",
   "metadata": {},
   "source": [
    "![](https://memegenerator.net/img/instances/500x/73988569/pythonpandas-is-easy-import-and-go.jpg)"
   ]
  }
 ],
 "metadata": {
  "kernelspec": {
   "display_name": "Python 3 (ipykernel)",
   "language": "python",
   "name": "python3"
  },
  "language_info": {
   "codemirror_mode": {
    "name": "ipython",
    "version": 3
   },
   "file_extension": ".py",
   "mimetype": "text/x-python",
   "name": "python",
   "nbconvert_exporter": "python",
   "pygments_lexer": "ipython3",
   "version": "3.11.7"
  }
 },
 "nbformat": 4,
 "nbformat_minor": 4
}
